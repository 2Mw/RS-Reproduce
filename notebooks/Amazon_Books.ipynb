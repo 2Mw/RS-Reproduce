{
 "cells": [
  {
   "cell_type": "markdown",
   "id": "f20fae1f",
   "metadata": {},
   "source": [
    "## Amazon books dataset preprocess\n",
    "\n",
    "download link: http://jmcauley.ucsd.edu/data/amazon/"
   ]
  },
  {
   "cell_type": "code",
   "execution_count": 1,
   "id": "877918bf",
   "metadata": {},
   "outputs": [
    {
     "name": "stdout",
     "output_type": "stream",
     "text": [
      "Check files over.\n"
     ]
    }
   ],
   "source": [
    "import os\n",
    "import numpy as np\n",
    "import pandas as pd\n",
    "\n",
    "data_dir = '../data/amazonbooks'\n",
    "\n",
    "files = ['ratings_Books.csv']\n",
    "\n",
    "for f in files:\n",
    "    if not os.path.exists(os.path.join(data_dir, f)):\n",
    "        raise FileNotFoundError(f'Not found file: {f} in directory {os.path.abspath(data_dir)}')\n",
    "\n",
    "print('Check files over.')"
   ]
  },
  {
   "cell_type": "code",
   "execution_count": 2,
   "id": "e089f696",
   "metadata": {},
   "outputs": [],
   "source": [
    "columns = ['user', 'item', 'rating', 'timestamp']"
   ]
  },
  {
   "cell_type": "code",
   "execution_count": 3,
   "id": "2b1eb42d",
   "metadata": {},
   "outputs": [],
   "source": [
    "def mapped2sequential(df: pd.DataFrame, columns: list, start_from_1=True):\n",
    "    for c in columns:\n",
    "        m = {}\n",
    "        sign = 1 if start_from_1 else 0\n",
    "        if isinstance(c, str):\n",
    "            if c in df.columns:\n",
    "                l = df[c].unique().tolist()\n",
    "                for v in l:\n",
    "                    if m.setdefault(v, sign) == sign:\n",
    "                        sign += 1\n",
    "                df[c] = df[c].map(m)\n",
    "        elif isinstance(c, list):\n",
    "            for sub_c in c:\n",
    "                if isinstance(sub_c, str):\n",
    "                    if sub_c in df.columns:\n",
    "                        l = df[sub_c].unique().tolist()\n",
    "                        for v in l:\n",
    "                            if m.setdefault(v, sign) == sign:\n",
    "                                sign += 1\n",
    "                        df[sub_c] = df[sub_c].map(m)\n",
    "                else:\n",
    "                    raise ValueError('最多支持二级list')\n",
    "\n",
    "\n",
    "def min_max_normalize(df: pd.DataFrame, columns: list):\n",
    "    for c in columns:\n",
    "        if c in df.columns:\n",
    "            df[c] = (df[c] - df[c].min()) / (df[c].max() - df[c].min())\n",
    "\n",
    "\n",
    "def std_normalize(df: pd.DataFrame, columns: list):\n",
    "    for c in columns:\n",
    "        if c in df.columns:\n",
    "            df[c] = (df[c] - df[c].mean()) / df[c].std()\n",
    "\n",
    "\n",
    "def multi_value_process(df: pd.DataFrame, column: str, sep: str):\n",
    "    uMap, ans = {}, []\n",
    "    for arr in df[column]:\n",
    "        que = []\n",
    "        for i in arr.split(sep):\n",
    "            if uMap.get(i) is None:\n",
    "                uMap[i] = len(uMap) + 1\n",
    "            que.append(uMap[i])\n",
    "        ans.append(que)\n",
    "    return ans, len(uMap) + 1"
   ]
  },
  {
   "cell_type": "code",
   "execution_count": 4,
   "id": "7513c7d3",
   "metadata": {},
   "outputs": [],
   "source": [
    "def read_data(file: str, sample_size, sep, names=None, dtype=None):\n",
    "    if not os.path.exists(file):\n",
    "        e = f'The file: {file} not exists.'\n",
    "        raise FileNotFoundError(e)\n",
    "    df = pd.read_csv(file, iterator=True, names=names, sep=sep, dtype=dtype)\n",
    "    if sample_size > 0:\n",
    "        df = df.get_chunk(sample_size)\n",
    "    else:\n",
    "        df = df.get_chunk()\n",
    "    return df"
   ]
  },
  {
   "cell_type": "markdown",
   "id": "1be2f293",
   "metadata": {},
   "source": [
    "amazon book 数据集中只有 userid, item_id, ratings, timestamp 构成"
   ]
  },
  {
   "cell_type": "code",
   "execution_count": 5,
   "id": "70a82a22",
   "metadata": {},
   "outputs": [
    {
     "data": {
      "text/html": [
       "<div>\n",
       "<style scoped>\n",
       "    .dataframe tbody tr th:only-of-type {\n",
       "        vertical-align: middle;\n",
       "    }\n",
       "\n",
       "    .dataframe tbody tr th {\n",
       "        vertical-align: top;\n",
       "    }\n",
       "\n",
       "    .dataframe thead th {\n",
       "        text-align: right;\n",
       "    }\n",
       "</style>\n",
       "<table border=\"1\" class=\"dataframe\">\n",
       "  <thead>\n",
       "    <tr style=\"text-align: right;\">\n",
       "      <th></th>\n",
       "      <th>user</th>\n",
       "      <th>item</th>\n",
       "      <th>rating</th>\n",
       "      <th>timestamp</th>\n",
       "    </tr>\n",
       "  </thead>\n",
       "  <tbody>\n",
       "    <tr>\n",
       "      <th>0</th>\n",
       "      <td>AH2L9G3DQHHAJ</td>\n",
       "      <td>0000000116</td>\n",
       "      <td>4.0</td>\n",
       "      <td>1019865600</td>\n",
       "    </tr>\n",
       "    <tr>\n",
       "      <th>1</th>\n",
       "      <td>A2IIIDRK3PRRZY</td>\n",
       "      <td>0000000116</td>\n",
       "      <td>1.0</td>\n",
       "      <td>1395619200</td>\n",
       "    </tr>\n",
       "    <tr>\n",
       "      <th>2</th>\n",
       "      <td>A1TADCM7YWPQ8M</td>\n",
       "      <td>0000000868</td>\n",
       "      <td>4.0</td>\n",
       "      <td>1031702400</td>\n",
       "    </tr>\n",
       "    <tr>\n",
       "      <th>3</th>\n",
       "      <td>AWGH7V0BDOJKB</td>\n",
       "      <td>0000013714</td>\n",
       "      <td>4.0</td>\n",
       "      <td>1383177600</td>\n",
       "    </tr>\n",
       "    <tr>\n",
       "      <th>4</th>\n",
       "      <td>A3UTQPQPM4TQO0</td>\n",
       "      <td>0000013714</td>\n",
       "      <td>5.0</td>\n",
       "      <td>1374883200</td>\n",
       "    </tr>\n",
       "  </tbody>\n",
       "</table>\n",
       "</div>"
      ],
      "text/plain": [
       "             user        item  rating   timestamp\n",
       "0   AH2L9G3DQHHAJ  0000000116     4.0  1019865600\n",
       "1  A2IIIDRK3PRRZY  0000000116     1.0  1395619200\n",
       "2  A1TADCM7YWPQ8M  0000000868     4.0  1031702400\n",
       "3   AWGH7V0BDOJKB  0000013714     4.0  1383177600\n",
       "4  A3UTQPQPM4TQO0  0000013714     5.0  1374883200"
      ]
     },
     "execution_count": 5,
     "metadata": {},
     "output_type": "execute_result"
    }
   ],
   "source": [
    "ratings = read_data(f'{data_dir}/{files[0]}', -1, ',', columns)\n",
    "ratings.head()"
   ]
  },
  {
   "cell_type": "code",
   "execution_count": 6,
   "id": "2a2a1865",
   "metadata": {},
   "outputs": [
    {
     "data": {
      "text/html": [
       "<div>\n",
       "<style scoped>\n",
       "    .dataframe tbody tr th:only-of-type {\n",
       "        vertical-align: middle;\n",
       "    }\n",
       "\n",
       "    .dataframe tbody tr th {\n",
       "        vertical-align: top;\n",
       "    }\n",
       "\n",
       "    .dataframe thead th {\n",
       "        text-align: right;\n",
       "    }\n",
       "</style>\n",
       "<table border=\"1\" class=\"dataframe\">\n",
       "  <thead>\n",
       "    <tr style=\"text-align: right;\">\n",
       "      <th></th>\n",
       "      <th>rating</th>\n",
       "      <th>timestamp</th>\n",
       "    </tr>\n",
       "  </thead>\n",
       "  <tbody>\n",
       "    <tr>\n",
       "      <th>count</th>\n",
       "      <td>2.250716e+07</td>\n",
       "      <td>2.250716e+07</td>\n",
       "    </tr>\n",
       "    <tr>\n",
       "      <th>mean</th>\n",
       "      <td>4.295759e+00</td>\n",
       "      <td>1.310415e+09</td>\n",
       "    </tr>\n",
       "    <tr>\n",
       "      <th>std</th>\n",
       "      <td>1.111507e+00</td>\n",
       "      <td>1.106154e+08</td>\n",
       "    </tr>\n",
       "    <tr>\n",
       "      <th>min</th>\n",
       "      <td>1.000000e+00</td>\n",
       "      <td>8.325504e+08</td>\n",
       "    </tr>\n",
       "    <tr>\n",
       "      <th>25%</th>\n",
       "      <td>4.000000e+00</td>\n",
       "      <td>1.274573e+09</td>\n",
       "    </tr>\n",
       "    <tr>\n",
       "      <th>50%</th>\n",
       "      <td>5.000000e+00</td>\n",
       "      <td>1.358813e+09</td>\n",
       "    </tr>\n",
       "    <tr>\n",
       "      <th>75%</th>\n",
       "      <td>5.000000e+00</td>\n",
       "      <td>1.384560e+09</td>\n",
       "    </tr>\n",
       "    <tr>\n",
       "      <th>max</th>\n",
       "      <td>5.000000e+00</td>\n",
       "      <td>1.406074e+09</td>\n",
       "    </tr>\n",
       "  </tbody>\n",
       "</table>\n",
       "</div>"
      ],
      "text/plain": [
       "             rating     timestamp\n",
       "count  2.250716e+07  2.250716e+07\n",
       "mean   4.295759e+00  1.310415e+09\n",
       "std    1.111507e+00  1.106154e+08\n",
       "min    1.000000e+00  8.325504e+08\n",
       "25%    4.000000e+00  1.274573e+09\n",
       "50%    5.000000e+00  1.358813e+09\n",
       "75%    5.000000e+00  1.384560e+09\n",
       "max    5.000000e+00  1.406074e+09"
      ]
     },
     "execution_count": 6,
     "metadata": {},
     "output_type": "execute_result"
    }
   ],
   "source": [
    "ratings.describe()"
   ]
  },
  {
   "cell_type": "markdown",
   "id": "4b278cfa",
   "metadata": {},
   "source": [
    "和 MIND 中的处理方式一样，去除掉交互较少的用户数据和 item 数据"
   ]
  },
  {
   "cell_type": "code",
   "execution_count": 7,
   "id": "d4e5bda8",
   "metadata": {},
   "outputs": [],
   "source": [
    "sub = ratings[['user', 'item']]\n",
    "sub = sub.drop_duplicates().reset_index(drop=True)"
   ]
  },
  {
   "cell_type": "markdown",
   "id": "0dc9204d",
   "metadata": {},
   "source": [
    "找到交互多的用户"
   ]
  },
  {
   "cell_type": "code",
   "execution_count": 8,
   "id": "aa805cd1",
   "metadata": {
    "scrolled": true
   },
   "outputs": [
    {
     "data": {
      "text/plain": [
       "(8026324, 2)"
      ]
     },
     "execution_count": 8,
     "metadata": {},
     "output_type": "execute_result"
    }
   ],
   "source": [
    "gu = sub.groupby(['user'])\n",
    "utl = ((gu.count() > 5) & (gu.count() < 500)).reset_index()\n",
    "utl.columns = ['user', 'usuit']\n",
    "utl.shape"
   ]
  },
  {
   "cell_type": "markdown",
   "id": "2f30739f",
   "metadata": {},
   "source": [
    "用户看过的书最大为 40000 条，为了防止内存爆掉，应该去除多余的部分，比如说只保留前 500 条记录"
   ]
  },
  {
   "cell_type": "code",
   "execution_count": 9,
   "id": "88483a08",
   "metadata": {},
   "outputs": [
    {
     "name": "stdout",
     "output_type": "stream",
     "text": [
      "624295\n",
      "8026324\n"
     ]
    }
   ],
   "source": [
    "print(np.sum(gu.count()['item']>5))\n",
    "print(np.sum((((gu.count() > 5) | (gu.count() < 500))['item']) == True))"
   ]
  },
  {
   "cell_type": "markdown",
   "id": "0ce245d1",
   "metadata": {},
   "source": [
    "找到交互多的item"
   ]
  },
  {
   "cell_type": "code",
   "execution_count": 10,
   "id": "e2517d45",
   "metadata": {},
   "outputs": [
    {
     "data": {
      "text/plain": [
       "(2330066, 2)"
      ]
     },
     "execution_count": 10,
     "metadata": {},
     "output_type": "execute_result"
    }
   ],
   "source": [
    "iu = sub.groupby(['item'])\n",
    "itl = (iu.count() > 200).reset_index()\n",
    "itl.columns = ['item', 'isuit']\n",
    "itl.shape"
   ]
  },
  {
   "cell_type": "code",
   "execution_count": 11,
   "id": "76b32418",
   "metadata": {},
   "outputs": [
    {
     "data": {
      "text/html": [
       "<div>\n",
       "<style scoped>\n",
       "    .dataframe tbody tr th:only-of-type {\n",
       "        vertical-align: middle;\n",
       "    }\n",
       "\n",
       "    .dataframe tbody tr th {\n",
       "        vertical-align: top;\n",
       "    }\n",
       "\n",
       "    .dataframe thead th {\n",
       "        text-align: right;\n",
       "    }\n",
       "</style>\n",
       "<table border=\"1\" class=\"dataframe\">\n",
       "  <thead>\n",
       "    <tr style=\"text-align: right;\">\n",
       "      <th></th>\n",
       "      <th>user</th>\n",
       "      <th>item</th>\n",
       "      <th>rating</th>\n",
       "      <th>timestamp</th>\n",
       "      <th>usuit</th>\n",
       "      <th>isuit</th>\n",
       "    </tr>\n",
       "  </thead>\n",
       "  <tbody>\n",
       "    <tr>\n",
       "      <th>0</th>\n",
       "      <td>AH2L9G3DQHHAJ</td>\n",
       "      <td>0000000116</td>\n",
       "      <td>4.0</td>\n",
       "      <td>1019865600</td>\n",
       "      <td>False</td>\n",
       "      <td>False</td>\n",
       "    </tr>\n",
       "    <tr>\n",
       "      <th>1</th>\n",
       "      <td>A2IIIDRK3PRRZY</td>\n",
       "      <td>0000000116</td>\n",
       "      <td>1.0</td>\n",
       "      <td>1395619200</td>\n",
       "      <td>False</td>\n",
       "      <td>False</td>\n",
       "    </tr>\n",
       "    <tr>\n",
       "      <th>2</th>\n",
       "      <td>AH2L9G3DQHHAJ</td>\n",
       "      <td>0553107755</td>\n",
       "      <td>5.0</td>\n",
       "      <td>1019952000</td>\n",
       "      <td>False</td>\n",
       "      <td>True</td>\n",
       "    </tr>\n",
       "    <tr>\n",
       "      <th>3</th>\n",
       "      <td>ADDB0Y73L2CHU</td>\n",
       "      <td>0553107755</td>\n",
       "      <td>5.0</td>\n",
       "      <td>1056067200</td>\n",
       "      <td>True</td>\n",
       "      <td>True</td>\n",
       "    </tr>\n",
       "    <tr>\n",
       "      <th>4</th>\n",
       "      <td>A3Z4Y7K8YJK1F</td>\n",
       "      <td>0553107755</td>\n",
       "      <td>4.0</td>\n",
       "      <td>1094601600</td>\n",
       "      <td>True</td>\n",
       "      <td>True</td>\n",
       "    </tr>\n",
       "    <tr>\n",
       "      <th>...</th>\n",
       "      <td>...</td>\n",
       "      <td>...</td>\n",
       "      <td>...</td>\n",
       "      <td>...</td>\n",
       "      <td>...</td>\n",
       "      <td>...</td>\n",
       "    </tr>\n",
       "    <tr>\n",
       "      <th>22507150</th>\n",
       "      <td>ARCJK1T6IQLGE</td>\n",
       "      <td>B00LXJVSRQ</td>\n",
       "      <td>5.0</td>\n",
       "      <td>1405728000</td>\n",
       "      <td>False</td>\n",
       "      <td>False</td>\n",
       "    </tr>\n",
       "    <tr>\n",
       "      <th>22507151</th>\n",
       "      <td>AE8J4KWX7PL3R</td>\n",
       "      <td>B00LY7P80K</td>\n",
       "      <td>4.0</td>\n",
       "      <td>1405987200</td>\n",
       "      <td>False</td>\n",
       "      <td>False</td>\n",
       "    </tr>\n",
       "    <tr>\n",
       "      <th>22507152</th>\n",
       "      <td>A354637YD3MCTH</td>\n",
       "      <td>B00LZVRA5Q</td>\n",
       "      <td>5.0</td>\n",
       "      <td>1406073600</td>\n",
       "      <td>False</td>\n",
       "      <td>False</td>\n",
       "    </tr>\n",
       "    <tr>\n",
       "      <th>22507153</th>\n",
       "      <td>A1VIVS7VU2U7WM</td>\n",
       "      <td>B00M01MFQ4</td>\n",
       "      <td>4.0</td>\n",
       "      <td>1405900800</td>\n",
       "      <td>False</td>\n",
       "      <td>False</td>\n",
       "    </tr>\n",
       "    <tr>\n",
       "      <th>22507154</th>\n",
       "      <td>A6X2I654P9BZF</td>\n",
       "      <td>B00M01MFQ4</td>\n",
       "      <td>5.0</td>\n",
       "      <td>1405900800</td>\n",
       "      <td>False</td>\n",
       "      <td>False</td>\n",
       "    </tr>\n",
       "  </tbody>\n",
       "</table>\n",
       "<p>22507155 rows × 6 columns</p>\n",
       "</div>"
      ],
      "text/plain": [
       "                    user        item  rating   timestamp  usuit  isuit\n",
       "0          AH2L9G3DQHHAJ  0000000116     4.0  1019865600  False  False\n",
       "1         A2IIIDRK3PRRZY  0000000116     1.0  1395619200  False  False\n",
       "2          AH2L9G3DQHHAJ  0553107755     5.0  1019952000  False   True\n",
       "3          ADDB0Y73L2CHU  0553107755     5.0  1056067200   True   True\n",
       "4          A3Z4Y7K8YJK1F  0553107755     4.0  1094601600   True   True\n",
       "...                  ...         ...     ...         ...    ...    ...\n",
       "22507150   ARCJK1T6IQLGE  B00LXJVSRQ     5.0  1405728000  False  False\n",
       "22507151   AE8J4KWX7PL3R  B00LY7P80K     4.0  1405987200  False  False\n",
       "22507152  A354637YD3MCTH  B00LZVRA5Q     5.0  1406073600  False  False\n",
       "22507153  A1VIVS7VU2U7WM  B00M01MFQ4     4.0  1405900800  False  False\n",
       "22507154   A6X2I654P9BZF  B00M01MFQ4     5.0  1405900800  False  False\n",
       "\n",
       "[22507155 rows x 6 columns]"
      ]
     },
     "execution_count": 11,
     "metadata": {},
     "output_type": "execute_result"
    }
   ],
   "source": [
    "sub_ = ratings.merge(utl).merge(itl)\n",
    "sub_"
   ]
  },
  {
   "cell_type": "code",
   "execution_count": 12,
   "id": "5f166264",
   "metadata": {
    "scrolled": true
   },
   "outputs": [
    {
     "data": {
      "text/html": [
       "<div>\n",
       "<style scoped>\n",
       "    .dataframe tbody tr th:only-of-type {\n",
       "        vertical-align: middle;\n",
       "    }\n",
       "\n",
       "    .dataframe tbody tr th {\n",
       "        vertical-align: top;\n",
       "    }\n",
       "\n",
       "    .dataframe thead th {\n",
       "        text-align: right;\n",
       "    }\n",
       "</style>\n",
       "<table border=\"1\" class=\"dataframe\">\n",
       "  <thead>\n",
       "    <tr style=\"text-align: right;\">\n",
       "      <th></th>\n",
       "      <th>rating</th>\n",
       "      <th>timestamp</th>\n",
       "    </tr>\n",
       "  </thead>\n",
       "  <tbody>\n",
       "    <tr>\n",
       "      <th>count</th>\n",
       "      <td>2.529902e+06</td>\n",
       "      <td>2.529902e+06</td>\n",
       "    </tr>\n",
       "    <tr>\n",
       "      <th>mean</th>\n",
       "      <td>4.252771e+00</td>\n",
       "      <td>1.333670e+09</td>\n",
       "    </tr>\n",
       "    <tr>\n",
       "      <th>std</th>\n",
       "      <td>1.084229e+00</td>\n",
       "      <td>9.242448e+07</td>\n",
       "    </tr>\n",
       "    <tr>\n",
       "      <th>min</th>\n",
       "      <td>1.000000e+00</td>\n",
       "      <td>8.356608e+08</td>\n",
       "    </tr>\n",
       "    <tr>\n",
       "      <th>25%</th>\n",
       "      <td>4.000000e+00</td>\n",
       "      <td>1.330560e+09</td>\n",
       "    </tr>\n",
       "    <tr>\n",
       "      <th>50%</th>\n",
       "      <td>5.000000e+00</td>\n",
       "      <td>1.367194e+09</td>\n",
       "    </tr>\n",
       "    <tr>\n",
       "      <th>75%</th>\n",
       "      <td>5.000000e+00</td>\n",
       "      <td>1.387670e+09</td>\n",
       "    </tr>\n",
       "    <tr>\n",
       "      <th>max</th>\n",
       "      <td>5.000000e+00</td>\n",
       "      <td>1.406074e+09</td>\n",
       "    </tr>\n",
       "  </tbody>\n",
       "</table>\n",
       "</div>"
      ],
      "text/plain": [
       "             rating     timestamp\n",
       "count  2.529902e+06  2.529902e+06\n",
       "mean   4.252771e+00  1.333670e+09\n",
       "std    1.084229e+00  9.242448e+07\n",
       "min    1.000000e+00  8.356608e+08\n",
       "25%    4.000000e+00  1.330560e+09\n",
       "50%    5.000000e+00  1.367194e+09\n",
       "75%    5.000000e+00  1.387670e+09\n",
       "max    5.000000e+00  1.406074e+09"
      ]
     },
     "execution_count": 12,
     "metadata": {},
     "output_type": "execute_result"
    }
   ],
   "source": [
    "sub_1 = sub_[sub_['usuit']]\n",
    "tmp = sub_1[sub_1['isuit']]\n",
    "tmp.describe()"
   ]
  },
  {
   "cell_type": "code",
   "execution_count": 13,
   "id": "ef6935cb",
   "metadata": {
    "scrolled": true
   },
   "outputs": [
    {
     "data": {
      "text/plain": [
       "(2529902, 6)"
      ]
     },
     "execution_count": 13,
     "metadata": {},
     "output_type": "execute_result"
    }
   ],
   "source": [
    "tmp.shape"
   ]
  },
  {
   "cell_type": "code",
   "execution_count": 14,
   "id": "daf8d0fd",
   "metadata": {
    "scrolled": true
   },
   "outputs": [
    {
     "name": "stderr",
     "output_type": "stream",
     "text": [
      "/data/amax/b510/yl/.conda/envs/rs/lib/python3.7/site-packages/ipykernel_launcher.py:1: SettingWithCopyWarning: \n",
      "A value is trying to be set on a copy of a slice from a DataFrame.\n",
      "Try using .loc[row_indexer,col_indexer] = value instead\n",
      "\n",
      "See the caveats in the documentation: https://pandas.pydata.org/pandas-docs/stable/user_guide/indexing.html#returning-a-view-versus-a-copy\n",
      "  \"\"\"Entry point for launching an IPython kernel.\n"
     ]
    }
   ],
   "source": [
    "tmp['like_type']=np.where(tmp['rating']>=3, 1, 0)"
   ]
  },
  {
   "cell_type": "markdown",
   "id": "c3d5ca0f",
   "metadata": {},
   "source": [
    "负样本在训练的时候进行拿取，在这里删除"
   ]
  },
  {
   "cell_type": "code",
   "execution_count": 15,
   "id": "160aee4f",
   "metadata": {},
   "outputs": [
    {
     "data": {
      "text/plain": [
       "(2305196, 7)"
      ]
     },
     "execution_count": 15,
     "metadata": {},
     "output_type": "execute_result"
    }
   ],
   "source": [
    "tmp = tmp[tmp['like_type'] == 1]\n",
    "tmp.shape"
   ]
  },
  {
   "cell_type": "code",
   "execution_count": 16,
   "id": "8b42a3a7",
   "metadata": {},
   "outputs": [],
   "source": [
    "tmp=tmp.drop(columns=['usuit', 'isuit', 'rating', 'timestamp', 'like_type'])"
   ]
  },
  {
   "cell_type": "code",
   "execution_count": 17,
   "id": "c40e35d0",
   "metadata": {},
   "outputs": [],
   "source": [
    "mapped2sequential(tmp, ['user', 'item'])"
   ]
  },
  {
   "cell_type": "markdown",
   "id": "79e0d5ac",
   "metadata": {},
   "source": [
    "为每个用户生成购买记录"
   ]
  },
  {
   "cell_type": "code",
   "execution_count": 18,
   "id": "67d33960",
   "metadata": {},
   "outputs": [],
   "source": [
    "item_list_per_user = tmp.groupby(['user'])['item'].apply(list).reset_index()\n",
    "item_list_per_user.columns = ['user', 'list']"
   ]
  },
  {
   "cell_type": "code",
   "execution_count": 19,
   "id": "b1b7e015",
   "metadata": {},
   "outputs": [],
   "source": [
    "item_list_per_user['true_list'] = item_list_per_user['list'].apply(lambda x: True if len(x) > 3 else False)"
   ]
  },
  {
   "cell_type": "code",
   "execution_count": 20,
   "id": "140b908d",
   "metadata": {},
   "outputs": [
    {
     "data": {
      "text/html": [
       "<div>\n",
       "<style scoped>\n",
       "    .dataframe tbody tr th:only-of-type {\n",
       "        vertical-align: middle;\n",
       "    }\n",
       "\n",
       "    .dataframe tbody tr th {\n",
       "        vertical-align: top;\n",
       "    }\n",
       "\n",
       "    .dataframe thead th {\n",
       "        text-align: right;\n",
       "    }\n",
       "</style>\n",
       "<table border=\"1\" class=\"dataframe\">\n",
       "  <thead>\n",
       "    <tr style=\"text-align: right;\">\n",
       "      <th></th>\n",
       "      <th>user</th>\n",
       "      <th>list</th>\n",
       "    </tr>\n",
       "  </thead>\n",
       "  <tbody>\n",
       "    <tr>\n",
       "      <th>0</th>\n",
       "      <td>1</td>\n",
       "      <td>[1, 11, 527, 540, 591, 745, 2492, 2714, 2738, ...</td>\n",
       "    </tr>\n",
       "    <tr>\n",
       "      <th>1</th>\n",
       "      <td>2</td>\n",
       "      <td>[1, 822, 1155, 1162, 2618, 3774, 3777, 8254]</td>\n",
       "    </tr>\n",
       "    <tr>\n",
       "      <th>2</th>\n",
       "      <td>3</td>\n",
       "      <td>[1, 2, 11, 85, 103, 161, 526, 540, 549, 569, 6...</td>\n",
       "    </tr>\n",
       "    <tr>\n",
       "      <th>3</th>\n",
       "      <td>4</td>\n",
       "      <td>[1, 7, 10, 37, 51, 95, 98, 164, 167, 256, 423,...</td>\n",
       "    </tr>\n",
       "    <tr>\n",
       "      <th>4</th>\n",
       "      <td>5</td>\n",
       "      <td>[1, 284, 654, 815, 1034, 1647, 1692, 2244, 2510]</td>\n",
       "    </tr>\n",
       "    <tr>\n",
       "      <th>...</th>\n",
       "      <td>...</td>\n",
       "      <td>...</td>\n",
       "    </tr>\n",
       "    <tr>\n",
       "      <th>475472</th>\n",
       "      <td>475473</td>\n",
       "      <td>[10988, 11016, 11060, 11081]</td>\n",
       "    </tr>\n",
       "    <tr>\n",
       "      <th>475474</th>\n",
       "      <td>475475</td>\n",
       "      <td>[10988, 11050, 11059, 11066, 11079]</td>\n",
       "    </tr>\n",
       "    <tr>\n",
       "      <th>475476</th>\n",
       "      <td>475477</td>\n",
       "      <td>[10988, 11008, 11088, 11092]</td>\n",
       "    </tr>\n",
       "    <tr>\n",
       "      <th>475947</th>\n",
       "      <td>475948</td>\n",
       "      <td>[11046, 11070, 11080, 11085]</td>\n",
       "    </tr>\n",
       "    <tr>\n",
       "      <th>476000</th>\n",
       "      <td>476001</td>\n",
       "      <td>[11050, 11059, 11077, 11078, 11079]</td>\n",
       "    </tr>\n",
       "  </tbody>\n",
       "</table>\n",
       "<p>201940 rows × 2 columns</p>\n",
       "</div>"
      ],
      "text/plain": [
       "          user                                               list\n",
       "0            1  [1, 11, 527, 540, 591, 745, 2492, 2714, 2738, ...\n",
       "1            2       [1, 822, 1155, 1162, 2618, 3774, 3777, 8254]\n",
       "2            3  [1, 2, 11, 85, 103, 161, 526, 540, 549, 569, 6...\n",
       "3            4  [1, 7, 10, 37, 51, 95, 98, 164, 167, 256, 423,...\n",
       "4            5   [1, 284, 654, 815, 1034, 1647, 1692, 2244, 2510]\n",
       "...        ...                                                ...\n",
       "475472  475473                       [10988, 11016, 11060, 11081]\n",
       "475474  475475                [10988, 11050, 11059, 11066, 11079]\n",
       "475476  475477                       [10988, 11008, 11088, 11092]\n",
       "475947  475948                       [11046, 11070, 11080, 11085]\n",
       "476000  476001                [11050, 11059, 11077, 11078, 11079]\n",
       "\n",
       "[201940 rows x 2 columns]"
      ]
     },
     "execution_count": 20,
     "metadata": {},
     "output_type": "execute_result"
    }
   ],
   "source": [
    "item_list_per_user = item_list_per_user[item_list_per_user['true_list']]\n",
    "item_list_per_user = item_list_per_user.drop(columns=['true_list'])\n",
    "item_list_per_user"
   ]
  },
  {
   "cell_type": "code",
   "execution_count": 21,
   "id": "2826adaf",
   "metadata": {},
   "outputs": [
    {
     "data": {
      "text/html": [
       "<div>\n",
       "<style scoped>\n",
       "    .dataframe tbody tr th:only-of-type {\n",
       "        vertical-align: middle;\n",
       "    }\n",
       "\n",
       "    .dataframe tbody tr th {\n",
       "        vertical-align: top;\n",
       "    }\n",
       "\n",
       "    .dataframe thead th {\n",
       "        text-align: right;\n",
       "    }\n",
       "</style>\n",
       "<table border=\"1\" class=\"dataframe\">\n",
       "  <thead>\n",
       "    <tr style=\"text-align: right;\">\n",
       "      <th></th>\n",
       "      <th>user</th>\n",
       "      <th>item</th>\n",
       "      <th>list</th>\n",
       "    </tr>\n",
       "  </thead>\n",
       "  <tbody>\n",
       "    <tr>\n",
       "      <th>0</th>\n",
       "      <td>1</td>\n",
       "      <td>1</td>\n",
       "      <td>[1, 11, 527, 540, 591, 745, 2492, 2714, 2738, ...</td>\n",
       "    </tr>\n",
       "    <tr>\n",
       "      <th>1</th>\n",
       "      <td>1</td>\n",
       "      <td>11</td>\n",
       "      <td>[1, 11, 527, 540, 591, 745, 2492, 2714, 2738, ...</td>\n",
       "    </tr>\n",
       "    <tr>\n",
       "      <th>2</th>\n",
       "      <td>1</td>\n",
       "      <td>527</td>\n",
       "      <td>[1, 11, 527, 540, 591, 745, 2492, 2714, 2738, ...</td>\n",
       "    </tr>\n",
       "    <tr>\n",
       "      <th>3</th>\n",
       "      <td>1</td>\n",
       "      <td>540</td>\n",
       "      <td>[1, 11, 527, 540, 591, 745, 2492, 2714, 2738, ...</td>\n",
       "    </tr>\n",
       "    <tr>\n",
       "      <th>4</th>\n",
       "      <td>1</td>\n",
       "      <td>591</td>\n",
       "      <td>[1, 11, 527, 540, 591, 745, 2492, 2714, 2738, ...</td>\n",
       "    </tr>\n",
       "    <tr>\n",
       "      <th>...</th>\n",
       "      <td>...</td>\n",
       "      <td>...</td>\n",
       "      <td>...</td>\n",
       "    </tr>\n",
       "    <tr>\n",
       "      <th>1802997</th>\n",
       "      <td>476001</td>\n",
       "      <td>11050</td>\n",
       "      <td>[11050, 11059, 11077, 11078, 11079]</td>\n",
       "    </tr>\n",
       "    <tr>\n",
       "      <th>1802998</th>\n",
       "      <td>476001</td>\n",
       "      <td>11059</td>\n",
       "      <td>[11050, 11059, 11077, 11078, 11079]</td>\n",
       "    </tr>\n",
       "    <tr>\n",
       "      <th>1802999</th>\n",
       "      <td>476001</td>\n",
       "      <td>11077</td>\n",
       "      <td>[11050, 11059, 11077, 11078, 11079]</td>\n",
       "    </tr>\n",
       "    <tr>\n",
       "      <th>1803000</th>\n",
       "      <td>476001</td>\n",
       "      <td>11078</td>\n",
       "      <td>[11050, 11059, 11077, 11078, 11079]</td>\n",
       "    </tr>\n",
       "    <tr>\n",
       "      <th>1803001</th>\n",
       "      <td>476001</td>\n",
       "      <td>11079</td>\n",
       "      <td>[11050, 11059, 11077, 11078, 11079]</td>\n",
       "    </tr>\n",
       "  </tbody>\n",
       "</table>\n",
       "<p>1803002 rows × 3 columns</p>\n",
       "</div>"
      ],
      "text/plain": [
       "           user   item                                               list\n",
       "0             1      1  [1, 11, 527, 540, 591, 745, 2492, 2714, 2738, ...\n",
       "1             1     11  [1, 11, 527, 540, 591, 745, 2492, 2714, 2738, ...\n",
       "2             1    527  [1, 11, 527, 540, 591, 745, 2492, 2714, 2738, ...\n",
       "3             1    540  [1, 11, 527, 540, 591, 745, 2492, 2714, 2738, ...\n",
       "4             1    591  [1, 11, 527, 540, 591, 745, 2492, 2714, 2738, ...\n",
       "...         ...    ...                                                ...\n",
       "1802997  476001  11050                [11050, 11059, 11077, 11078, 11079]\n",
       "1802998  476001  11059                [11050, 11059, 11077, 11078, 11079]\n",
       "1802999  476001  11077                [11050, 11059, 11077, 11078, 11079]\n",
       "1803000  476001  11078                [11050, 11059, 11077, 11078, 11079]\n",
       "1803001  476001  11079                [11050, 11059, 11077, 11078, 11079]\n",
       "\n",
       "[1803002 rows x 3 columns]"
      ]
     },
     "execution_count": 21,
     "metadata": {},
     "output_type": "execute_result"
    }
   ],
   "source": [
    "tmp = tmp.merge(item_list_per_user, on='user')\n",
    "tmp"
   ]
  },
  {
   "cell_type": "code",
   "execution_count": 22,
   "id": "895bc98f",
   "metadata": {},
   "outputs": [
    {
     "data": {
      "text/html": [
       "<div>\n",
       "<style scoped>\n",
       "    .dataframe tbody tr th:only-of-type {\n",
       "        vertical-align: middle;\n",
       "    }\n",
       "\n",
       "    .dataframe tbody tr th {\n",
       "        vertical-align: top;\n",
       "    }\n",
       "\n",
       "    .dataframe thead th {\n",
       "        text-align: right;\n",
       "    }\n",
       "</style>\n",
       "<table border=\"1\" class=\"dataframe\">\n",
       "  <thead>\n",
       "    <tr style=\"text-align: right;\">\n",
       "      <th></th>\n",
       "      <th>user</th>\n",
       "      <th>item</th>\n",
       "    </tr>\n",
       "  </thead>\n",
       "  <tbody>\n",
       "    <tr>\n",
       "      <th>count</th>\n",
       "      <td>1.803002e+06</td>\n",
       "      <td>1.803002e+06</td>\n",
       "    </tr>\n",
       "    <tr>\n",
       "      <th>mean</th>\n",
       "      <td>1.708630e+05</td>\n",
       "      <td>4.895508e+03</td>\n",
       "    </tr>\n",
       "    <tr>\n",
       "      <th>std</th>\n",
       "      <td>1.264715e+05</td>\n",
       "      <td>3.061903e+03</td>\n",
       "    </tr>\n",
       "    <tr>\n",
       "      <th>min</th>\n",
       "      <td>1.000000e+00</td>\n",
       "      <td>1.000000e+00</td>\n",
       "    </tr>\n",
       "    <tr>\n",
       "      <th>25%</th>\n",
       "      <td>5.638700e+04</td>\n",
       "      <td>2.298000e+03</td>\n",
       "    </tr>\n",
       "    <tr>\n",
       "      <th>50%</th>\n",
       "      <td>1.443630e+05</td>\n",
       "      <td>4.579000e+03</td>\n",
       "    </tr>\n",
       "    <tr>\n",
       "      <th>75%</th>\n",
       "      <td>2.840650e+05</td>\n",
       "      <td>7.286000e+03</td>\n",
       "    </tr>\n",
       "    <tr>\n",
       "      <th>max</th>\n",
       "      <td>4.760010e+05</td>\n",
       "      <td>1.109300e+04</td>\n",
       "    </tr>\n",
       "  </tbody>\n",
       "</table>\n",
       "</div>"
      ],
      "text/plain": [
       "               user          item\n",
       "count  1.803002e+06  1.803002e+06\n",
       "mean   1.708630e+05  4.895508e+03\n",
       "std    1.264715e+05  3.061903e+03\n",
       "min    1.000000e+00  1.000000e+00\n",
       "25%    5.638700e+04  2.298000e+03\n",
       "50%    1.443630e+05  4.579000e+03\n",
       "75%    2.840650e+05  7.286000e+03\n",
       "max    4.760010e+05  1.109300e+04"
      ]
     },
     "execution_count": 22,
     "metadata": {},
     "output_type": "execute_result"
    }
   ],
   "source": [
    "tmp.describe()"
   ]
  },
  {
   "cell_type": "markdown",
   "id": "5e09594c",
   "metadata": {},
   "source": [
    "生成用户测试数据和 item数据集"
   ]
  },
  {
   "cell_type": "code",
   "execution_count": 23,
   "id": "a05511c9",
   "metadata": {},
   "outputs": [
    {
     "data": {
      "text/html": [
       "<div>\n",
       "<style scoped>\n",
       "    .dataframe tbody tr th:only-of-type {\n",
       "        vertical-align: middle;\n",
       "    }\n",
       "\n",
       "    .dataframe tbody tr th {\n",
       "        vertical-align: top;\n",
       "    }\n",
       "\n",
       "    .dataframe thead th {\n",
       "        text-align: right;\n",
       "    }\n",
       "</style>\n",
       "<table border=\"1\" class=\"dataframe\">\n",
       "  <thead>\n",
       "    <tr style=\"text-align: right;\">\n",
       "      <th></th>\n",
       "      <th>user</th>\n",
       "      <th>item</th>\n",
       "      <th>list</th>\n",
       "    </tr>\n",
       "  </thead>\n",
       "  <tbody>\n",
       "    <tr>\n",
       "      <th>0</th>\n",
       "      <td>66832</td>\n",
       "      <td>4332</td>\n",
       "      <td>[244, 303, 312, 313, 429, 473, 568, 1385, 2071...</td>\n",
       "    </tr>\n",
       "    <tr>\n",
       "      <th>1</th>\n",
       "      <td>47275</td>\n",
       "      <td>1203</td>\n",
       "      <td>[170, 746, 1197, 1201, 1203, 1249, 1292, 1392,...</td>\n",
       "    </tr>\n",
       "    <tr>\n",
       "      <th>2</th>\n",
       "      <td>42510</td>\n",
       "      <td>1281</td>\n",
       "      <td>[158, 544, 1281, 2582, 6333]</td>\n",
       "    </tr>\n",
       "    <tr>\n",
       "      <th>3</th>\n",
       "      <td>5476</td>\n",
       "      <td>545</td>\n",
       "      <td>[16, 85, 94, 529, 545, 772, 1606, 2561, 3662, ...</td>\n",
       "    </tr>\n",
       "    <tr>\n",
       "      <th>4</th>\n",
       "      <td>284468</td>\n",
       "      <td>6408</td>\n",
       "      <td>[2823, 3636, 4871, 4936, 6267, 6408, 6939, 7311]</td>\n",
       "    </tr>\n",
       "    <tr>\n",
       "      <th>...</th>\n",
       "      <td>...</td>\n",
       "      <td>...</td>\n",
       "      <td>...</td>\n",
       "    </tr>\n",
       "    <tr>\n",
       "      <th>1802997</th>\n",
       "      <td>9061</td>\n",
       "      <td>190</td>\n",
       "      <td>[27, 166, 169, 174, 190, 198, 5423, 6542, 7216...</td>\n",
       "    </tr>\n",
       "    <tr>\n",
       "      <th>1802998</th>\n",
       "      <td>28940</td>\n",
       "      <td>6753</td>\n",
       "      <td>[113, 825, 973, 1127, 3636, 4242, 4575, 6753, ...</td>\n",
       "    </tr>\n",
       "    <tr>\n",
       "      <th>1802999</th>\n",
       "      <td>101911</td>\n",
       "      <td>1290</td>\n",
       "      <td>[534, 621, 1263, 1265, 1267, 1290, 2009, 2494,...</td>\n",
       "    </tr>\n",
       "    <tr>\n",
       "      <th>1803000</th>\n",
       "      <td>49646</td>\n",
       "      <td>391</td>\n",
       "      <td>[185, 290, 391, 5443]</td>\n",
       "    </tr>\n",
       "    <tr>\n",
       "      <th>1803001</th>\n",
       "      <td>217976</td>\n",
       "      <td>1865</td>\n",
       "      <td>[1655, 1865, 2990, 3639, 4135, 5990]</td>\n",
       "    </tr>\n",
       "  </tbody>\n",
       "</table>\n",
       "<p>1803002 rows × 3 columns</p>\n",
       "</div>"
      ],
      "text/plain": [
       "           user  item                                               list\n",
       "0         66832  4332  [244, 303, 312, 313, 429, 473, 568, 1385, 2071...\n",
       "1         47275  1203  [170, 746, 1197, 1201, 1203, 1249, 1292, 1392,...\n",
       "2         42510  1281                       [158, 544, 1281, 2582, 6333]\n",
       "3          5476   545  [16, 85, 94, 529, 545, 772, 1606, 2561, 3662, ...\n",
       "4        284468  6408   [2823, 3636, 4871, 4936, 6267, 6408, 6939, 7311]\n",
       "...         ...   ...                                                ...\n",
       "1802997    9061   190  [27, 166, 169, 174, 190, 198, 5423, 6542, 7216...\n",
       "1802998   28940  6753  [113, 825, 973, 1127, 3636, 4242, 4575, 6753, ...\n",
       "1802999  101911  1290  [534, 621, 1263, 1265, 1267, 1290, 2009, 2494,...\n",
       "1803000   49646   391                              [185, 290, 391, 5443]\n",
       "1803001  217976  1865               [1655, 1865, 2990, 3639, 4135, 5990]\n",
       "\n",
       "[1803002 rows x 3 columns]"
      ]
     },
     "execution_count": 23,
     "metadata": {},
     "output_type": "execute_result"
    }
   ],
   "source": [
    "tmp = tmp.sample(frac=1).reset_index(drop=True)\n",
    "tmp"
   ]
  },
  {
   "cell_type": "code",
   "execution_count": 24,
   "id": "421458c7",
   "metadata": {},
   "outputs": [],
   "source": [
    "item_data = tmp['item'].drop_duplicates().reset_index(drop=True)\n",
    "item_data = pd.DataFrame(item_data)"
   ]
  },
  {
   "cell_type": "code",
   "execution_count": 29,
   "id": "618a7a84",
   "metadata": {},
   "outputs": [
    {
     "data": {
      "text/plain": [
       "(11093, 476001)"
      ]
     },
     "execution_count": 29,
     "metadata": {},
     "output_type": "execute_result"
    }
   ],
   "source": [
    "tmp['item'].max(), tmp['user'].max()"
   ]
  },
  {
   "cell_type": "code",
   "execution_count": 32,
   "id": "a89f5901",
   "metadata": {},
   "outputs": [],
   "source": [
    "mapped2sequential(sub_, ['user', 'item'])"
   ]
  },
  {
   "cell_type": "code",
   "execution_count": 33,
   "id": "73f8c2b2",
   "metadata": {},
   "outputs": [
    {
     "data": {
      "text/plain": [
       "(2330066, 8026324)"
      ]
     },
     "execution_count": 33,
     "metadata": {},
     "output_type": "execute_result"
    }
   ],
   "source": [
    "sub_['item'].max(), sub_['user'].max()"
   ]
  }
 ],
 "metadata": {
  "kernelspec": {
   "display_name": "Python 3.7.0 ('rs')",
   "language": "python",
   "name": "python3"
  },
  "language_info": {
   "codemirror_mode": {
    "name": "ipython",
    "version": 3
   },
   "file_extension": ".py",
   "mimetype": "text/x-python",
   "name": "python",
   "nbconvert_exporter": "python",
   "pygments_lexer": "ipython3",
   "version": "3.7.0"
  },
  "vscode": {
   "interpreter": {
    "hash": "ad552d726c319cd6138852cac5e281475e93cb4018f8488e1227c26fd5b0c522"
   }
  }
 },
 "nbformat": 4,
 "nbformat_minor": 5
}
