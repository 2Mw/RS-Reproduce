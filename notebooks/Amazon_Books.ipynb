{
 "cells": [
  {
   "cell_type": "markdown",
   "id": "f20fae1f",
   "metadata": {},
   "source": [
    "## Amazon books dataset preprocess\n",
    "\n",
    "download link: http://jmcauley.ucsd.edu/data/amazon/"
   ]
  },
  {
   "cell_type": "code",
   "execution_count": null,
   "id": "877918bf",
   "metadata": {},
   "outputs": [],
   "source": [
    "import os\n",
    "import numpy as np\n",
    "import pandas as pd\n",
    "\n",
    "data_dir = '../data/amazonbooks'\n",
    "\n",
    "files = ['ratings_Books.csv']\n",
    "\n",
    "for f in files:\n",
    "    if not os.path.exists(os.path.join(data_dir, f)):\n",
    "        raise FileNotFoundError(f'Not found file: {f} in directory {os.path.abspath(data_dir)}')\n",
    "\n",
    "print('Check files over.')"
   ]
  },
  {
   "cell_type": "code",
   "execution_count": null,
   "id": "e089f696",
   "metadata": {},
   "outputs": [],
   "source": [
    "columns = ['user', 'item', 'rating', 'timestamp']"
   ]
  },
  {
   "cell_type": "code",
   "execution_count": null,
   "id": "2b1eb42d",
   "metadata": {},
   "outputs": [],
   "source": [
    "def mapped2sequential(df: pd.DataFrame, columns: list, start_from_1=True):\n",
    "    for c in columns:\n",
    "        m = {}\n",
    "        sign = 1 if start_from_1 else 0\n",
    "        if isinstance(c, str):\n",
    "            if c in df.columns:\n",
    "                l = df[c].unique().tolist()\n",
    "                for v in l:\n",
    "                    if m.setdefault(v, sign) == sign:\n",
    "                        sign += 1\n",
    "                df[c] = df[c].map(m)\n",
    "        elif isinstance(c, list):\n",
    "            for sub_c in c:\n",
    "                if isinstance(sub_c, str):\n",
    "                    if sub_c in df.columns:\n",
    "                        l = df[sub_c].unique().tolist()\n",
    "                        for v in l:\n",
    "                            if m.setdefault(v, sign) == sign:\n",
    "                                sign += 1\n",
    "                        df[sub_c] = df[sub_c].map(m)\n",
    "                else:\n",
    "                    raise ValueError('最多支持二级list')\n",
    "\n",
    "\n",
    "def min_max_normalize(df: pd.DataFrame, columns: list):\n",
    "    for c in columns:\n",
    "        if c in df.columns:\n",
    "            df[c] = (df[c] - df[c].min()) / (df[c].max() - df[c].min())\n",
    "\n",
    "\n",
    "def std_normalize(df: pd.DataFrame, columns: list):\n",
    "    for c in columns:\n",
    "        if c in df.columns:\n",
    "            df[c] = (df[c] - df[c].mean()) / df[c].std()\n",
    "\n",
    "\n",
    "def multi_value_process(df: pd.DataFrame, column: str, sep: str):\n",
    "    uMap, ans = {}, []\n",
    "    for arr in df[column]:\n",
    "        que = []\n",
    "        for i in arr.split(sep):\n",
    "            if uMap.get(i) is None:\n",
    "                uMap[i] = len(uMap) + 1\n",
    "            que.append(uMap[i])\n",
    "        ans.append(que)\n",
    "    return ans, len(uMap) + 1"
   ]
  },
  {
   "cell_type": "code",
   "execution_count": null,
   "id": "7513c7d3",
   "metadata": {},
   "outputs": [],
   "source": [
    "def read_data(file: str, sample_size, sep, names=None, dtype=None):\n",
    "    if not os.path.exists(file):\n",
    "        e = f'The file: {file} not exists.'\n",
    "        raise FileNotFoundError(e)\n",
    "    df = pd.read_csv(file, iterator=True, names=names, sep=sep, dtype=dtype)\n",
    "    if sample_size > 0:\n",
    "        df = df.get_chunk(sample_size)\n",
    "    else:\n",
    "        df = df.get_chunk()\n",
    "    return df"
   ]
  },
  {
   "cell_type": "markdown",
   "id": "1be2f293",
   "metadata": {},
   "source": [
    "amazon book 数据集中只有 userid, item_id, ratings, timestamp 构成"
   ]
  },
  {
   "cell_type": "code",
   "execution_count": null,
   "id": "70a82a22",
   "metadata": {},
   "outputs": [],
   "source": [
    "ratings = read_data(f'{data_dir}/{files[0]}', -1, ',', columns)\n",
    "ratings.head()"
   ]
  },
  {
   "cell_type": "code",
   "execution_count": null,
   "id": "2a2a1865",
   "metadata": {},
   "outputs": [],
   "source": [
    "ratings.describe()"
   ]
  },
  {
   "cell_type": "markdown",
   "id": "4b278cfa",
   "metadata": {},
   "source": [
    "和 MIND 中的处理方式一样，去除掉交互较少的用户数据和 item 数据"
   ]
  },
  {
   "cell_type": "code",
   "execution_count": null,
   "id": "d4e5bda8",
   "metadata": {},
   "outputs": [],
   "source": [
    "sub = ratings[['user', 'item']]\n",
    "sub = sub.drop_duplicates().reset_index(drop=True)"
   ]
  },
  {
   "cell_type": "markdown",
   "id": "0dc9204d",
   "metadata": {},
   "source": [
    "找到交互多的用户"
   ]
  },
  {
   "cell_type": "code",
   "execution_count": null,
   "id": "aa805cd1",
   "metadata": {
    "scrolled": true
   },
   "outputs": [],
   "source": [
    "gu = sub.groupby(['user'])\n",
    "utl = ((gu.count() > 5) & (gu.count() < 500)).reset_index()\n",
    "utl.columns = ['user', 'usuit']\n",
    "utl.shape"
   ]
  },
  {
   "cell_type": "markdown",
   "id": "2f30739f",
   "metadata": {},
   "source": [
    "用户看过的书最大为 40000 条，为了防止内存爆掉，应该去除多余的部分，比如说只保留前 500 条记录"
   ]
  },
  {
   "cell_type": "code",
   "execution_count": null,
   "id": "88483a08",
   "metadata": {},
   "outputs": [],
   "source": [
    "print(np.sum(gu.count()['item']>5))\n",
    "print(np.sum((((gu.count() > 5) | (gu.count() < 500))['item']) == True))"
   ]
  },
  {
   "cell_type": "markdown",
   "id": "0ce245d1",
   "metadata": {},
   "source": [
    "找到交互多的item"
   ]
  },
  {
   "cell_type": "code",
   "execution_count": null,
   "id": "e2517d45",
   "metadata": {},
   "outputs": [],
   "source": [
    "iu = sub.groupby(['item'])\n",
    "itl = (iu.count() > 200).reset_index()\n",
    "itl.columns = ['item', 'isuit']\n",
    "itl.shape"
   ]
  },
  {
   "cell_type": "code",
   "execution_count": null,
   "id": "76b32418",
   "metadata": {},
   "outputs": [],
   "source": [
    "sub_ = ratings.merge(utl).merge(itl)\n",
    "sub_"
   ]
  },
  {
   "cell_type": "code",
   "execution_count": null,
   "id": "5f166264",
   "metadata": {
    "scrolled": true
   },
   "outputs": [],
   "source": [
    "sub_1 = sub_[sub_['usuit']]\n",
    "tmp = sub_1[sub_1['isuit']]\n",
    "tmp.describe()"
   ]
  },
  {
   "cell_type": "code",
   "execution_count": null,
   "id": "ef6935cb",
   "metadata": {
    "scrolled": true
   },
   "outputs": [],
   "source": [
    "tmp.shape"
   ]
  },
  {
   "cell_type": "code",
   "execution_count": null,
   "id": "daf8d0fd",
   "metadata": {
    "scrolled": true
   },
   "outputs": [],
   "source": [
    "tmp['like_type']=np.where(tmp['rating']>=3, 1, 0)"
   ]
  },
  {
   "cell_type": "markdown",
   "id": "c3d5ca0f",
   "metadata": {},
   "source": [
    "负样本在训练的时候进行拿取，在这里删除"
   ]
  },
  {
   "cell_type": "code",
   "execution_count": null,
   "id": "160aee4f",
   "metadata": {},
   "outputs": [],
   "source": [
    "tmp = tmp[tmp['like_type'] == 1]\n",
    "tmp.shape"
   ]
  },
  {
   "cell_type": "code",
   "execution_count": null,
   "id": "8b42a3a7",
   "metadata": {},
   "outputs": [],
   "source": [
    "tmp=tmp.drop(columns=['usuit', 'isuit', 'rating', 'timestamp', 'like_type'])"
   ]
  },
  {
   "cell_type": "code",
   "execution_count": null,
   "id": "c40e35d0",
   "metadata": {},
   "outputs": [],
   "source": [
    "mapped2sequential(tmp, ['user', 'item'])"
   ]
  },
  {
   "cell_type": "markdown",
   "id": "79e0d5ac",
   "metadata": {},
   "source": [
    "为每个用户生成购买记录"
   ]
  },
  {
   "cell_type": "code",
   "execution_count": null,
   "id": "67d33960",
   "metadata": {},
   "outputs": [],
   "source": [
    "item_list_per_user = tmp.groupby(['user'])['item'].apply(list).reset_index()\n",
    "item_list_per_user.columns = ['user', 'list']"
   ]
  },
  {
   "cell_type": "code",
   "execution_count": null,
   "id": "b1b7e015",
   "metadata": {},
   "outputs": [],
   "source": [
    "item_list_per_user['true_list'] = item_list_per_user['list'].apply(lambda x: True if len(x) > 3 else False)"
   ]
  },
  {
   "cell_type": "code",
   "execution_count": null,
   "id": "140b908d",
   "metadata": {},
   "outputs": [],
   "source": [
    "item_list_per_user = item_list_per_user[item_list_per_user['true_list']]\n",
    "item_list_per_user = item_list_per_user.drop(columns=['true_list'])\n",
    "item_list_per_user"
   ]
  },
  {
   "cell_type": "code",
   "execution_count": null,
   "id": "2826adaf",
   "metadata": {},
   "outputs": [],
   "source": [
    "tmp = tmp.merge(item_list_per_user, on='user')\n",
    "tmp"
   ]
  },
  {
   "cell_type": "code",
   "execution_count": null,
   "id": "895bc98f",
   "metadata": {},
   "outputs": [],
   "source": [
    "tmp.describe()"
   ]
  },
  {
   "cell_type": "markdown",
   "id": "5e09594c",
   "metadata": {},
   "source": [
    "生成用户测试数据和 item数据集"
   ]
  },
  {
   "cell_type": "code",
   "execution_count": null,
   "id": "a05511c9",
   "metadata": {},
   "outputs": [],
   "source": [
    "tmp = tmp.sample(frac=1).reset_index(drop=True)\n",
    "tmp"
   ]
  },
  {
   "cell_type": "code",
   "execution_count": null,
   "id": "421458c7",
   "metadata": {},
   "outputs": [],
   "source": [
    "item_data = tmp['item'].drop_duplicates().reset_index(drop=True)\n",
    "item_data = pd.DataFrame(item_data)"
   ]
  },
  {
   "cell_type": "code",
   "execution_count": null,
   "id": "618a7a84",
   "metadata": {},
   "outputs": [],
   "source": []
  }
 ],
 "metadata": {
  "kernelspec": {
   "display_name": "Python 3 (ipykernel)",
   "language": "python",
   "name": "python3"
  },
  "language_info": {
   "codemirror_mode": {
    "name": "ipython",
    "version": 3
   },
   "file_extension": ".py",
   "mimetype": "text/x-python",
   "name": "python",
   "nbconvert_exporter": "python",
   "pygments_lexer": "ipython3",
   "version": "3.7.11"
  }
 },
 "nbformat": 4,
 "nbformat_minor": 5
}
