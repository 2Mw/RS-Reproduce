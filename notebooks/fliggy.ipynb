{
 "cells": [
  {
   "cell_type": "markdown",
   "id": "424815f6",
   "metadata": {},
   "source": [
    "# 预处理飞猪数据集\n",
    "\n",
    "飞猪数据集说明：https://tianchi.aliyun.com/dataset/113649\n",
    "\n",
    "首先 check 文件是否存在："
   ]
  },
  {
   "cell_type": "code",
   "execution_count": null,
   "id": "299ecb35",
   "metadata": {},
   "outputs": [],
   "source": [
    "import os\n",
    "import numpy as np\n",
    "import pandas as pd\n",
    "\n",
    "data_dir = '../data/fliggy'\n",
    "\n",
    "files = ['user_profile.csv', 'item_profile.csv', 'user_item_behavior_history.csv']\n",
    "\n",
    "for f in files:\n",
    "    if not os.path.exists(os.path.join(data_dir, f)):\n",
    "        raise FileNotFoundError(f'Not found file: {f} in directory {os.path.abspath(data_dir)}')\n",
    "\n",
    "print('Check files over.')"
   ]
  },
  {
   "cell_type": "code",
   "execution_count": null,
   "id": "b0e28de4",
   "metadata": {},
   "outputs": [],
   "source": [
    "USER_NAMES = ['UserID', 'Age', 'Gender', 'Occupation', 'UserCity', 'uLabel']\n",
    "ITEM_NAMES = ['ItemID', 'CateID', 'Item_city', 'iLabel']\n",
    "BEHAVIOR_NAMES = ['UserID', 'ItemID', 'BehaviorType', 'TimeStamp']"
   ]
  },
  {
   "cell_type": "code",
   "execution_count": null,
   "id": "5680ef47",
   "metadata": {},
   "outputs": [],
   "source": [
    "def mapped2sequential(df: pd.DataFrame, columns: list, start_from_1=True):\n",
    "    for c in columns:\n",
    "        m = {}\n",
    "        sign = 1 if start_from_1 else 0\n",
    "        if isinstance(c, str):\n",
    "            if c in df.columns:\n",
    "                l = df[c].unique().tolist()\n",
    "                for v in l:\n",
    "                    if m.setdefault(v, sign) == sign:\n",
    "                        sign += 1\n",
    "                df[c] = df[c].map(m)\n",
    "        elif isinstance(c, list):\n",
    "            for sub_c in c:\n",
    "                if isinstance(sub_c, str):\n",
    "                    if sub_c in df.columns:\n",
    "                        l = df[sub_c].unique().tolist()\n",
    "                        for v in l:\n",
    "                            if m.setdefault(v, sign) == sign:\n",
    "                                sign += 1\n",
    "                        df[sub_c] = df[sub_c].map(m)\n",
    "                else:\n",
    "                    raise ValueError('最多支持二级list')\n",
    "\n",
    "\n",
    "def min_max_normalize(df: pd.DataFrame, columns: list):\n",
    "    for c in columns:\n",
    "        if c in df.columns:\n",
    "            df[c] = (df[c] - df[c].min()) / (df[c].max() - df[c].min())\n",
    "\n",
    "\n",
    "def std_normalize(df: pd.DataFrame, columns: list):\n",
    "    for c in columns:\n",
    "        if c in df.columns:\n",
    "            df[c] = (df[c] - df[c].mean()) / df[c].std()\n",
    "\n",
    "\n",
    "def multi_value_process(df: pd.DataFrame, column: str, sep: str):\n",
    "    uMap, ans = {}, []\n",
    "    for arr in df[column]:\n",
    "        que = []\n",
    "        for i in arr.split(sep):\n",
    "            if uMap.get(i) is None:\n",
    "                uMap[i] = len(uMap) + 1\n",
    "            que.append(uMap[i])\n",
    "        ans.append(que)\n",
    "    return ans, len(uMap) + 1"
   ]
  },
  {
   "cell_type": "markdown",
   "id": "c07776e2",
   "metadata": {},
   "source": [
    "读取数据函数"
   ]
  },
  {
   "cell_type": "code",
   "execution_count": null,
   "id": "ad2d8cd7",
   "metadata": {},
   "outputs": [],
   "source": [
    "def read_data(file: str, sample_size, sep, names=None, dtype=None):\n",
    "    if not os.path.exists(file):\n",
    "        e = f'The file: {file} not exists.'\n",
    "        raise FileNotFoundError(e)\n",
    "    df = pd.read_csv(file, iterator=True, names=names, sep=sep, dtype=dtype)\n",
    "    if sample_size > 0:\n",
    "        df = df.get_chunk(sample_size)\n",
    "    else:\n",
    "        df = df.get_chunk()\n",
    "    return df"
   ]
  },
  {
   "cell_type": "markdown",
   "id": "30d04df1",
   "metadata": {},
   "source": [
    "开始读取数据"
   ]
  },
  {
   "cell_type": "code",
   "execution_count": null,
   "id": "3dbc6bcd",
   "metadata": {},
   "outputs": [],
   "source": [
    "# 两亿条数据太多了，这里只加载五千万条\n",
    "sample_num = 1e8\n",
    "SEP = ','\n",
    "\n",
    "users = read_data(f'{data_dir}/{files[0]}', -1, SEP, USER_NAMES)\n",
    "items = read_data(f'{data_dir}/{files[1]}', -1, SEP, ITEM_NAMES)\n",
    "behavior = read_data(f'{data_dir}/{files[2]}', sample_num, SEP, BEHAVIOR_NAMES)"
   ]
  },
  {
   "cell_type": "code",
   "execution_count": null,
   "id": "9b959b85",
   "metadata": {},
   "outputs": [],
   "source": [
    "# 处理用户异常年龄\n",
    "avg_age = int(users['Age'].mean())\n",
    "users['Age'] = users['Age'].apply(lambda x: x if x <= 75 else avg_age)"
   ]
  },
  {
   "cell_type": "markdown",
   "id": "cf56f973",
   "metadata": {},
   "source": [
    "观察 behavior 数据集，会发现其含有 UserID\tItemID\tBehaviorType 完全一致，但是只有 TimeStamp 不同的记录"
   ]
  },
  {
   "cell_type": "code",
   "execution_count": null,
   "id": "a8266528",
   "metadata": {},
   "outputs": [],
   "source": [
    "behavior.head(10)"
   ]
  },
  {
   "cell_type": "markdown",
   "id": "de9482a3",
   "metadata": {},
   "source": [
    "因此合并三者都相同的项，使用 BehaviorCount 来表示交互的次数"
   ]
  },
  {
   "cell_type": "code",
   "execution_count": null,
   "id": "4d31745a",
   "metadata": {},
   "outputs": [],
   "source": [
    "behavior = behavior.drop(columns=['TimeStamp'])\n",
    "behavior['BehaviorCount'] = 0\n",
    "behavior = behavior.groupby(['UserID', 'ItemID', 'BehaviorType']).count().reset_index()"
   ]
  },
  {
   "cell_type": "markdown",
   "id": "51e0bd8b",
   "metadata": {},
   "source": [
    "将三者数据集进行合并"
   ]
  },
  {
   "cell_type": "code",
   "execution_count": null,
   "id": "45d2f152",
   "metadata": {},
   "outputs": [],
   "source": [
    "# 直接进行合并\n",
    "behavior = behavior.merge(users, on='UserID').merge(items, on='ItemID')\n",
    "behavior.head(10)"
   ]
  },
  {
   "cell_type": "code",
   "execution_count": null,
   "id": "7afc4fc5",
   "metadata": {},
   "outputs": [],
   "source": [
    "min_max_normalize(behavior, ['TimeStamp'])\n",
    "mapped2sequential(behavior, ['UserID', 'ItemID', 'Occupation', 'CateID', 'BehaviorType', ['UserCity', 'Item_city']])\n",
    "behavior.head(10)"
   ]
  },
  {
   "cell_type": "code",
   "execution_count": null,
   "id": "42086860",
   "metadata": {},
   "outputs": [],
   "source": [
    "# 处理多值属性\n",
    "uLabel, u_label_vocab = multi_value_process(behavior, 'uLabel', ';')\n",
    "iLabel, i_label_vocab = multi_value_process(behavior, 'iLabel', ';')"
   ]
  },
  {
   "cell_type": "code",
   "execution_count": null,
   "id": "cd8dad40",
   "metadata": {},
   "outputs": [],
   "source": [
    "# 替换属性\n",
    "behavior['uLabels'] = uLabel\n",
    "behavior['iLabels'] = iLabel\n",
    "behavior = behavior.drop(columns=['uLabel', 'iLabel'])\n",
    "behavior.head(10)"
   ]
  },
  {
   "cell_type": "markdown",
   "id": "968a8f15",
   "metadata": {},
   "source": [
    "为每个用户记录其所有交互过的 item"
   ]
  },
  {
   "cell_type": "code",
   "execution_count": null,
   "id": "764caa62",
   "metadata": {},
   "outputs": [],
   "source": [
    "item_list_per_user = behavior.groupby(['UserID'])['ItemID'].apply(list).reset_index()\n",
    "item_list_per_user.head(10)"
   ]
  },
  {
   "cell_type": "code",
   "execution_count": null,
   "id": "5ffb0b0e",
   "metadata": {},
   "outputs": [],
   "source": [
    "item_list_per_user.columns = ['UserID', 'InteractItems']"
   ]
  },
  {
   "cell_type": "code",
   "execution_count": null,
   "id": "1ad24482",
   "metadata": {},
   "outputs": [],
   "source": [
    "behavior = behavior.merge(item_list_per_user, on='UserID')"
   ]
  },
  {
   "cell_type": "code",
   "execution_count": null,
   "id": "29b62c4c",
   "metadata": {},
   "outputs": [],
   "source": [
    "query_col = USER_NAMES + ['BehaviorType', 'BehaviorCount']"
   ]
  },
  {
   "cell_type": "code",
   "execution_count": null,
   "id": "56e6ace4",
   "metadata": {},
   "outputs": [],
   "source": [
    "# 随机打乱顺序\n",
    "behavior = behavior.sample(frac=1).reset_index(drop=True)\n",
    "behavior.shape"
   ]
  },
  {
   "cell_type": "code",
   "execution_count": null,
   "id": "bf7ad809",
   "metadata": {},
   "outputs": [],
   "source": [
    "len = behavior.shape[0]\n",
    "train_data = behavior[:int(len * 0.9)].reset_index(drop=True)\n",
    "test_data = behavior[int(len * 0.9):].reset_index(drop=True)\n",
    "train_data.shape, test_data.shape"
   ]
  },
  {
   "cell_type": "code",
   "execution_count": null,
   "id": "cc7872e7",
   "metadata": {},
   "outputs": [],
   "source": [
    "item_data = behavior[['ItemID', 'CateID', 'Item_city', 'iLabels']]\n",
    "t = item_data['iLabels'].apply(lambda x: ','.join(list(map(str, x))))\n",
    "t"
   ]
  },
  {
   "cell_type": "code",
   "execution_count": null,
   "id": "a331460b",
   "metadata": {},
   "outputs": [],
   "source": [
    "item_data = item_data.drop(columns=['iLabels'])\n",
    "item_data['iLabels'] = t\n",
    "item_data = item_data.drop_duplicates().reset_index(drop=True)\n",
    "item_data.shape, items.shape"
   ]
  },
  {
   "cell_type": "code",
   "execution_count": null,
   "id": "6efe01b3",
   "metadata": {},
   "outputs": [],
   "source": [
    "t = item_data['iLabels'].apply(lambda x: [int(i) for i in x.split(',')])\n",
    "item_data = item_data.drop(columns=['iLabels'])\n",
    "item_data['iLabels'] = t"
   ]
  },
  {
   "cell_type": "code",
   "execution_count": null,
   "id": "f19fd0b8",
   "metadata": {},
   "outputs": [],
   "source": [
    "item_data"
   ]
  },
  {
   "cell_type": "code",
   "execution_count": null,
   "id": "32f25266",
   "metadata": {},
   "outputs": [],
   "source": [
    "query_col = USER_NAMES + ['BehaviorType', 'BehaviorCount', 'InteractItems']\n",
    "query_col[5] = 'uLabels'\n",
    "tmp = behavior.iloc[0, :][query_col]\n",
    "item_df = pd.DataFrame([tmp.tolist()]*item_data.shape[0], columns=query_col)\n",
    "item_df = pd.concat([item_df, item_data], axis=1)\n",
    "# 整理列的顺序\n",
    "item_df = item_df[train_data.columns]\n",
    "item_df"
   ]
  },
  {
   "cell_type": "code",
   "execution_count": null,
   "id": "9a59b4f5",
   "metadata": {},
   "outputs": [],
   "source": [
    "train_data.head()"
   ]
  },
  {
   "cell_type": "code",
   "execution_count": null,
   "id": "6c60b006",
   "metadata": {},
   "outputs": [],
   "source": [
    "print(query_col)"
   ]
  }
 ],
 "metadata": {
  "kernelspec": {
   "display_name": "Python 3.7.0 ('rs')",
   "language": "python",
   "name": "python3"
  },
  "language_info": {
   "codemirror_mode": {
    "name": "ipython",
    "version": 3
   },
   "file_extension": ".py",
   "mimetype": "text/x-python",
   "name": "python",
   "nbconvert_exporter": "python",
   "pygments_lexer": "ipython3",
   "version": "3.7.0"
  },
  "vscode": {
   "interpreter": {
    "hash": "ad552d726c319cd6138852cac5e281475e93cb4018f8488e1227c26fd5b0c522"
   }
  }
 },
 "nbformat": 4,
 "nbformat_minor": 5
}
