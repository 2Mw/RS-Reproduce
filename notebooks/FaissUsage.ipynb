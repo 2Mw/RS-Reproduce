{
 "cells": [
  {
   "cell_type": "markdown",
   "id": "770170bd",
   "metadata": {},
   "source": [
    "# Faiss 使用\n",
    "\n",
    "Faiss 用于支持搜索任何大小的向量，也支持 evaluation 和模型调参，大部分算法支持使用 GPU。"
   ]
  },
  {
   "cell_type": "code",
   "execution_count": 3,
   "id": "8b7b2598",
   "metadata": {},
   "outputs": [
    {
     "name": "stdout",
     "output_type": "stream",
     "text": [
      "Faiss not installed.\n"
     ]
    }
   ],
   "source": [
    "try:\n",
    "    import faiss\n",
    "except:\n",
    "    print('Faiss not installed.')"
   ]
  },
  {
   "cell_type": "code",
   "execution_count": null,
   "id": "d2a26c49",
   "metadata": {},
   "outputs": [],
   "source": []
  },
  {
   "cell_type": "code",
   "execution_count": null,
   "id": "f571ae59",
   "metadata": {},
   "outputs": [],
   "source": []
  },
  {
   "cell_type": "code",
   "execution_count": null,
   "id": "13f9ac59",
   "metadata": {},
   "outputs": [],
   "source": []
  },
  {
   "cell_type": "code",
   "execution_count": null,
   "id": "18b0bd76",
   "metadata": {},
   "outputs": [],
   "source": []
  },
  {
   "cell_type": "code",
   "execution_count": null,
   "id": "b65b7e27",
   "metadata": {},
   "outputs": [],
   "source": []
  }
 ],
 "metadata": {
  "kernelspec": {
   "display_name": "Python 3 (ipykernel)",
   "language": "python",
   "name": "python3"
  },
  "language_info": {
   "codemirror_mode": {
    "name": "ipython",
    "version": 3
   },
   "file_extension": ".py",
   "mimetype": "text/x-python",
   "name": "python",
   "nbconvert_exporter": "python",
   "pygments_lexer": "ipython3",
   "version": "3.7.11"
  }
 },
 "nbformat": 4,
 "nbformat_minor": 5
}
