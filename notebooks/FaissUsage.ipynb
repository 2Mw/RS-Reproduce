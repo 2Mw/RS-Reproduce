{
 "cells": [
  {
   "cell_type": "markdown",
   "id": "770170bd",
   "metadata": {},
   "source": [
    "# Faiss 使用\n",
    "\n",
    "Faiss 用于支持搜索任何大小的向量，也支持 evaluation 和模型调参，大部分算法支持使用 GPU。"
   ]
  },
  {
   "cell_type": "code",
   "execution_count": null,
   "id": "8b7b2598",
   "metadata": {},
   "outputs": [],
   "source": [
    "try:\n",
    "    import faiss\n",
    "    print('Faiss installed.')\n",
    "except:\n",
    "    print('Faiss not installed. Maybe only support linux.')\n",
    "import numpy as np"
   ]
  },
  {
   "cell_type": "markdown",
   "id": "2a4ef0ad",
   "metadata": {},
   "source": [
    "## 1. Demo 简单搜索\n",
    "\n",
    "### 0x1 构建数据和索引\n",
    "\n",
    "首先构建数据"
   ]
  },
  {
   "cell_type": "code",
   "execution_count": null,
   "id": "f571ae59",
   "metadata": {},
   "outputs": [],
   "source": [
    "# dimension\n",
    "d = 64\n",
    "# database size\n",
    "nb = 100000\n",
    "# quries\n",
    "nq = 10000\n",
    "np.random.seed(1234)\n",
    "xb = np.random.random((nb, d)).astype('float32')\n",
    "xb[:, 0] += np.arange(nb) / 1000.\n",
    "xq = np.random.random((nq, d)).astype('float32')\n",
    "xq[:, 0] += np.arange(nq) / 1000."
   ]
  },
  {
   "cell_type": "markdown",
   "id": "9c16f360",
   "metadata": {},
   "source": [
    "创建索引，并且为索引添加数据。\n",
    "\n",
    "Faiss 用于包装数据库向量，可以提前进行预处理让搜索更高效。\n",
    "\n",
    "有很多索引类型，最简单的 L2 距离索引为 `IndexFlatL2`\n",
    "\n",
    "构建和训练索引分别对应两个操作：`add` 和 `search`\n",
    "\n",
    "大部分分索引需要训练 `is_trained` 来学习得到数据的分布情况，这个索引不需要，所以在此忽略。"
   ]
  },
  {
   "cell_type": "code",
   "execution_count": null,
   "id": "18b0bd76",
   "metadata": {},
   "outputs": [],
   "source": [
    "index = faiss.IndexFlatL2(d)\n",
    "print(index.is_trained)\n",
    "index.add(xb)\n",
    "print('包含的向量数量', index.ntotal)"
   ]
  },
  {
   "cell_type": "markdown",
   "id": "0c5a7a43",
   "metadata": {},
   "source": [
    "### 0x2 搜索\n",
    "\n",
    "此处搜索使用最简单的 KNN 来进行搜索操作。"
   ]
  },
  {
   "cell_type": "code",
   "execution_count": null,
   "id": "5375a27b",
   "metadata": {},
   "outputs": [],
   "source": [
    "k = 4\n",
    "# 正确性检查\n",
    "distance, idx = index.search(xb[:5], k)\n",
    "idx, distance"
   ]
  },
  {
   "cell_type": "markdown",
   "id": "5293073a",
   "metadata": {},
   "source": [
    "`search` 返回的结果是 distance, idx，分别表示与目标搜索向量的距离和对应的索引"
   ]
  },
  {
   "cell_type": "code",
   "execution_count": null,
   "id": "08d0370b",
   "metadata": {},
   "outputs": [],
   "source": [
    "import time\n",
    "s = time.time()\n",
    "D, I = index.search(xq, k)\n",
    "print(f'cost {time.time() - s:.2f}s')"
   ]
  },
  {
   "cell_type": "code",
   "execution_count": null,
   "id": "82281ae1",
   "metadata": {},
   "outputs": [],
   "source": [
    "I[:5], I[-5:]"
   ]
  },
  {
   "cell_type": "markdown",
   "id": "78f06a11",
   "metadata": {},
   "source": [
    "## 2. 快速搜索\n",
    "\n",
    "搜索速度太慢了，如何更快搜索？将每块数据进行分区处理，使用一个代表性的向量来表示这个数据分片，如果 query 和这个代表性向量比较相近，则只需要对比这一个分区内的所有向量，从而达到较少搜索次数加快搜索速度的目的。\n",
    "\n",
    "`IndexIVFFlat` [倒排索引](https://www.elastic.co/guide/cn/elasticsearch/guide/current/inverted-index.html)就实现了这个功能，`Flat` 表示数据没有经过编码压缩的意思。\n",
    "\n",
    "这类索引需要训练的过程，并且需要其他的索引(quantizer)用于将向量分配到 Voronoi cell 中，每个 cell 都是用一个中心向量来用于寻找最近邻，通常这个索引是 `IndexFlatL2`。\n",
    "\n",
    "有两个参数可以进行搜索策略调整：\n",
    "* `nlist`: 用来指定 cell 的数量，相当于聚类中心的数量\n",
    "* `nprobe`: 用来指定在执行搜索的时候，每次需要查询的聚类中心数量"
   ]
  },
  {
   "cell_type": "code",
   "execution_count": null,
   "id": "de1cdb21",
   "metadata": {},
   "outputs": [],
   "source": [
    "nlist = 100\n",
    "k = 4\n",
    "iv_index = faiss.IndexIVFFlat(index, d, nlist)\n",
    "print(iv_index.is_trained)\n",
    "iv_index.train(xb)\n",
    "iv_index.is_trained"
   ]
  },
  {
   "cell_type": "code",
   "execution_count": null,
   "id": "e204a11f",
   "metadata": {},
   "outputs": [],
   "source": [
    "iv_index.add(xb)\n",
    "s = time.time()\n",
    "iv_index.nprobe = 1\n",
    "D, I = iv_index.search(xq, k)\n",
    "print(f'cost {time.time() - s:.2f}s')\n",
    "D, I"
   ]
  },
  {
   "cell_type": "code",
   "execution_count": null,
   "id": "87b9c8b1",
   "metadata": {},
   "outputs": [],
   "source": [
    "s = time.time()\n",
    "iv_index.nprobe = 10\n",
    "D, I = iv_index.search(xq, k)\n",
    "print(f'cost {time.time() - s:.2f}s')\n",
    "D, I"
   ]
  },
  {
   "cell_type": "code",
   "execution_count": null,
   "id": "c2679f69",
   "metadata": {},
   "outputs": [],
   "source": [
    "s = time.time()\n",
    "iv_index.nprobe = 100\n",
    "D, I = iv_index.search(xq, k)\n",
    "print(f'cost {time.time() - s:.2f}s')\n",
    "D, I"
   ]
  },
  {
   "cell_type": "markdown",
   "id": "751696a0",
   "metadata": {},
   "source": [
    "可以观察到，当 `nprobe` 数量越高的时候，越接近于暴力搜索，因此设置 `nprobe` 可以在执行速度和精度之间进行权衡。"
   ]
  },
  {
   "cell_type": "markdown",
   "id": "188bbd3e",
   "metadata": {},
   "source": [
    "## 3. 节约内存搜索\n",
    "\n",
    "在一些情况下可能保存的数据较大，会导致内存占用过多，因此 faiss 提供了一种有损压缩来进行减小空间存储。\n",
    "\n",
    "这种计数基于 [Product Quantizer](https://hal.archives-ouvertes.fr/file/index/docid/514462/filename/paper_hal.pdf) 因此采取压缩的类多以 `xxxPQ` 结尾，在这种情况下各种数据可能会有精度损失。\n"
   ]
  },
  {
   "cell_type": "code",
   "execution_count": null,
   "id": "b1715e80",
   "metadata": {},
   "outputs": [],
   "source": [
    "m = 8  # 子采样器的数量\n",
    "index = faiss.IndexFlatL2(d)\n",
    "pq_index = faiss.IndexIVFPQ(index, d, nlist, m, 8) # 末尾的 8 表示使用 8 个子采样器将每个向量压缩成 8 bit\n",
    "pq_index.train(xb)\n",
    "pq_index.add(xb)\n",
    "D, I = pq_index.search(xb[:5], k) # sanity check\n",
    "print(I)\n",
    "print(D)\n",
    "pq_index.nprobe = 10              # make comparable with experiment above\n",
    "D, I = pq_index.search(xq, k)     # search\n",
    "print(I[-5:])"
   ]
  },
  {
   "cell_type": "markdown",
   "id": "136797eb",
   "metadata": {},
   "source": [
    "## 4. 工厂方法\n",
    "\n",
    "快速创建索引"
   ]
  },
  {
   "cell_type": "code",
   "execution_count": null,
   "id": "f3b44df3",
   "metadata": {},
   "outputs": [],
   "source": [
    "index = faiss.index_factory(d,\"PCA32,IVF100,PQ8\")"
   ]
  },
  {
   "cell_type": "markdown",
   "id": "b122c6c7",
   "metadata": {},
   "source": [
    "该字符串的含义为：使用PCA算法将向量降维到32维, 划分成100个nprobe (搜索空间), 通过PQ算法将每个向量压缩成8bit。"
   ]
  },
  {
   "cell_type": "code",
   "execution_count": null,
   "id": "10d702b8",
   "metadata": {},
   "outputs": [],
   "source": [
    "index = faiss.index_factory(d,\"IVF100,FLAT\")"
   ]
  },
  {
   "cell_type": "markdown",
   "id": "bfa17406",
   "metadata": {},
   "source": [
    "该字符串的含义为：划分成100个nprobe (搜索空间), 不压缩。"
   ]
  },
  {
   "cell_type": "markdown",
   "id": "1868daec",
   "metadata": {},
   "source": [
    "## 5. 使用 GPU\n",
    "\n",
    "使用单个 GPU，每个索引需要至少 `256MB` 的空间。"
   ]
  },
  {
   "cell_type": "code",
   "execution_count": null,
   "id": "9a77a59c",
   "metadata": {},
   "outputs": [],
   "source": [
    "res = faiss.StandardGpuResources()  # use a single GPU"
   ]
  },
  {
   "cell_type": "code",
   "execution_count": null,
   "id": "320f3ae8",
   "metadata": {},
   "outputs": [],
   "source": [
    "# build a flat (CPU) index\n",
    "index_flat = faiss.IndexFlatL2(1)\n",
    "# make it into a gpu index\n",
    "gpu_index_flat = faiss.index_cpu_to_gpu(res, 0, index_flat)"
   ]
  },
  {
   "cell_type": "markdown",
   "id": "084ba09e",
   "metadata": {},
   "source": [
    "通过函数 `index_cpu_to_all_gpus` 使用多个 GPU"
   ]
  },
  {
   "cell_type": "code",
   "execution_count": null,
   "id": "4210724a",
   "metadata": {
    "scrolled": true
   },
   "outputs": [],
   "source": [
    "ngpus = faiss.get_num_gpus()\n",
    "\n",
    "print(\"number of GPUs:\", ngpus)\n",
    "\n",
    "cpu_index = faiss.IndexFlatL2(d)\n",
    "\n",
    "gpu_index = faiss.index_cpu_to_all_gpus(  # build the index\n",
    "    cpu_index\n",
    ")\n",
    "\n",
    "gpu_index.add(xb)              # add vectors to the index\n",
    "print(gpu_index.ntotal)\n",
    "\n",
    "k = 4                          # we want to see 4 nearest neighbors\n",
    "D, I = gpu_index.search(xq, k) # actual search\n",
    "print(I[:5])                   # neighbors of the 5 first queries\n",
    "print(I[-5:])      "
   ]
  },
  {
   "cell_type": "markdown",
   "id": "01d14c09",
   "metadata": {},
   "source": [
    "## 6. 构建余弦相似度\n",
    "\n",
    "faiss 中不支持之间构建余弦相似度，在[此](https://github.com/facebookresearch/faiss/wiki/MetricType-and-distances)提到构建余弦相似度的步骤：\n",
    "\n",
    "1. 创建索引 `IndexFlatIP`\n",
    "2. 在添加到索引之前使用进行 L2 归一化（`faiss.normalize_L2` in python）\n",
    "3. 搜索"
   ]
  },
  {
   "cell_type": "markdown",
   "id": "ba58e418",
   "metadata": {},
   "source": [
    "## 7. 保存和读取索引"
   ]
  },
  {
   "cell_type": "code",
   "execution_count": null,
   "id": "ba9297cd",
   "metadata": {},
   "outputs": [],
   "source": [
    "faiss.write_index(index, 'a.index')\n",
    "index = faiss.read_index('a.index')"
   ]
  },
  {
   "cell_type": "markdown",
   "id": "04bb3df1",
   "metadata": {},
   "source": [
    "## 8. 向量与 ID 对应"
   ]
  },
  {
   "cell_type": "code",
   "execution_count": null,
   "id": "d8ac678f",
   "metadata": {},
   "outputs": [],
   "source": [
    "import numpy as np\n",
    "import faiss\n",
    "# dimension\n",
    "d = 5\n",
    "# database size\n",
    "nb = 100\n",
    "# quries\n",
    "nq = 5\n",
    "np.random.seed(1234)\n",
    "xb = np.random.random((nb, d)).astype('float32')\n",
    "xq = np.random.random((nq, d)).astype('float32')\n",
    "xb\n",
    "ids = np.arange(nb, nb*2).astype(np.int64)\n",
    "nlist = 10\n",
    "quantizer = faiss.IndexFlatIP(d)\n",
    "index = faiss.IndexIVFFlat(quantizer, d, nlist, faiss.METRIC_INNER_PRODUCT)\n",
    "index.train(xb)\n",
    "index.add_with_ids(xb, ids)\n",
    "index.search(xq, 1000)"
   ]
  },
  {
   "cell_type": "code",
   "execution_count": null,
   "id": "fda89757",
   "metadata": {},
   "outputs": [],
   "source": []
  }
 ],
 "metadata": {
  "kernelspec": {
   "display_name": "Python 3 (ipykernel)",
   "language": "python",
   "name": "python3"
  },
  "language_info": {
   "codemirror_mode": {
    "name": "ipython",
    "version": 3
   },
   "file_extension": ".py",
   "mimetype": "text/x-python",
   "name": "python",
   "nbconvert_exporter": "python",
   "pygments_lexer": "ipython3",
   "version": "3.7.11"
  }
 },
 "nbformat": 4,
 "nbformat_minor": 5
}
