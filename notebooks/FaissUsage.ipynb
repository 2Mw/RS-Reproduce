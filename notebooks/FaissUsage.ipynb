{
 "cells": [
  {
   "cell_type": "markdown",
   "id": "770170bd",
   "metadata": {},
   "source": [
    "# Faiss 使用\n",
    "\n",
    "Faiss 用于支持搜索任何大小的向量，也支持 evaluation 和模型调参，大部分算法支持使用 GPU。"
   ]
  },
  {
   "cell_type": "code",
   "execution_count": 1,
   "id": "8b7b2598",
   "metadata": {},
   "outputs": [
    {
     "name": "stdout",
     "output_type": "stream",
     "text": [
      "Faiss installed.\n"
     ]
    }
   ],
   "source": [
    "try:\n",
    "    import faiss\n",
    "    print('Faiss installed.')\n",
    "except:\n",
    "    print('Faiss not installed. Maybe only support linux.')\n",
    "import numpy as np"
   ]
  },
  {
   "cell_type": "markdown",
   "id": "2a4ef0ad",
   "metadata": {},
   "source": [
    "## 1. Demo 简单搜索\n",
    "\n",
    "### 0x1 构建数据和索引\n",
    "\n",
    "首先构建数据"
   ]
  },
  {
   "cell_type": "code",
   "execution_count": 2,
   "id": "f571ae59",
   "metadata": {},
   "outputs": [],
   "source": [
    "# dimension\n",
    "d = 64\n",
    "# database size\n",
    "nb = 100000\n",
    "# quries\n",
    "nq = 10000\n",
    "np.random.seed(1234)\n",
    "xb = np.random.random((nb, d)).astype('float32')\n",
    "xb[:, 0] += np.arange(nb) / 1000.\n",
    "xq = np.random.random((nq, d)).astype('float32')\n",
    "xq[:, 0] += np.arange(nq) / 1000."
   ]
  },
  {
   "cell_type": "markdown",
   "id": "9c16f360",
   "metadata": {},
   "source": [
    "创建索引，并且为索引添加数据。\n",
    "\n",
    "Faiss 用于包装数据库向量，可以提前进行预处理让搜索更高效。\n",
    "\n",
    "有很多索引类型，最简单的 L2 距离索引为 `IndexFlatL2`\n",
    "\n",
    "构建和训练索引分别对应两个操作：`add` 和 `search`\n",
    "\n",
    "大部分分索引需要训练 `is_trained` 来学习得到数据的分布情况，这个索引不需要，所以在此忽略。"
   ]
  },
  {
   "cell_type": "code",
   "execution_count": 3,
   "id": "18b0bd76",
   "metadata": {},
   "outputs": [
    {
     "name": "stdout",
     "output_type": "stream",
     "text": [
      "True\n",
      "包含的向量数量 100000\n"
     ]
    }
   ],
   "source": [
    "index = faiss.IndexFlatL2(d)\n",
    "print(index.is_trained)\n",
    "index.add(xb)\n",
    "print('包含的向量数量', index.ntotal)"
   ]
  },
  {
   "cell_type": "markdown",
   "id": "0c5a7a43",
   "metadata": {},
   "source": [
    "### 0x2 搜索\n",
    "\n",
    "此处搜索使用最简单的 KNN 来进行搜索操作。"
   ]
  },
  {
   "cell_type": "code",
   "execution_count": 4,
   "id": "5375a27b",
   "metadata": {},
   "outputs": [
    {
     "data": {
      "text/plain": [
       "(array([[  0, 393, 363,  78],\n",
       "        [  1, 555, 277, 364],\n",
       "        [  2, 304, 101,  13],\n",
       "        [  3, 173,  18, 182],\n",
       "        [  4, 288, 370, 531]]),\n",
       " array([[0.       , 7.175174 , 7.2076287, 7.251163 ],\n",
       "        [0.       , 6.323565 , 6.684582 , 6.799944 ],\n",
       "        [0.       , 5.7964087, 6.3917365, 7.2815127],\n",
       "        [0.       , 7.277905 , 7.5279875, 7.6628447],\n",
       "        [0.       , 6.763804 , 7.295122 , 7.368814 ]], dtype=float32))"
      ]
     },
     "execution_count": 4,
     "metadata": {},
     "output_type": "execute_result"
    }
   ],
   "source": [
    "k = 4\n",
    "# 正确性检查\n",
    "distance, idx = index.search(xb[:5], k)\n",
    "idx, distance"
   ]
  },
  {
   "cell_type": "markdown",
   "id": "5293073a",
   "metadata": {},
   "source": [
    "`search` 返回的结果是 distance, idx，分别表示与目标搜索向量的距离和对应的索引"
   ]
  },
  {
   "cell_type": "code",
   "execution_count": 5,
   "id": "08d0370b",
   "metadata": {},
   "outputs": [
    {
     "name": "stdout",
     "output_type": "stream",
     "text": [
      "cost 10.36s\n"
     ]
    }
   ],
   "source": [
    "import time\n",
    "s = time.time()\n",
    "D, I = index.search(xq, k)\n",
    "print(f'cost {time.time() - s:.2f}s')"
   ]
  },
  {
   "cell_type": "code",
   "execution_count": 6,
   "id": "82281ae1",
   "metadata": {},
   "outputs": [
    {
     "data": {
      "text/plain": [
       "(array([[ 381,  207,  210,  477],\n",
       "        [ 526,  911,  142,   72],\n",
       "        [ 838,  527, 1290,  425],\n",
       "        [ 196,  184,  164,  359],\n",
       "        [ 526,  377,  120,  425]]),\n",
       " array([[ 9900, 10500,  9309,  9831],\n",
       "        [11055, 10895, 10812, 11321],\n",
       "        [11353, 11103, 10164,  9787],\n",
       "        [10571, 10664, 10632,  9638],\n",
       "        [ 9628,  9554, 10036,  9582]]))"
      ]
     },
     "execution_count": 6,
     "metadata": {},
     "output_type": "execute_result"
    }
   ],
   "source": [
    "I[:5], I[-5:]"
   ]
  },
  {
   "cell_type": "markdown",
   "id": "78f06a11",
   "metadata": {},
   "source": [
    "## 2. 快速搜索\n",
    "\n",
    "搜索速度太慢了，如何更快搜索？将每块数据进行分区处理，使用一个代表性的向量来表示这个数据分片，如果 query 和这个代表性向量比较相近，则只需要对比这一个分区内的所有向量，从而达到较少搜索次数加快搜索速度的目的。\n",
    "\n",
    "`IndexIVFFlat` [倒排索引](https://www.elastic.co/guide/cn/elasticsearch/guide/current/inverted-index.html)就实现了这个功能，`Flat` 表示数据没有经过编码压缩的意思。\n",
    "\n",
    "这类索引需要训练的过程，并且需要其他的索引(quantizer)用于将向量分配到 Voronoi cell 中，每个 cell 都是用一个中心向量来用于寻找最近邻，通常这个索引是 `IndexFlatL2`。\n",
    "\n",
    "有两个参数可以进行搜索策略调整：\n",
    "* `nlist`: 用来指定 cell 的数量，相当于聚类中心的数量\n",
    "* `nprobe`: 用来指定在执行搜索的时候，每次需要查询的聚类中心数量"
   ]
  },
  {
   "cell_type": "code",
   "execution_count": 7,
   "id": "de1cdb21",
   "metadata": {},
   "outputs": [
    {
     "name": "stdout",
     "output_type": "stream",
     "text": [
      "False\n"
     ]
    },
    {
     "data": {
      "text/plain": [
       "True"
      ]
     },
     "execution_count": 7,
     "metadata": {},
     "output_type": "execute_result"
    }
   ],
   "source": [
    "nlist = 100\n",
    "k = 4\n",
    "iv_index = faiss.IndexIVFFlat(index, d, nlist)\n",
    "print(iv_index.is_trained)\n",
    "iv_index.train(xb)\n",
    "iv_index.is_trained"
   ]
  },
  {
   "cell_type": "code",
   "execution_count": 8,
   "id": "e204a11f",
   "metadata": {},
   "outputs": [
    {
     "name": "stdout",
     "output_type": "stream",
     "text": [
      "cost 0.05s\n"
     ]
    },
    {
     "data": {
      "text/plain": [
       "(array([[6.8155117, 6.889466 , 7.395678 , 7.4290204],\n",
       "        [6.6041107, 6.6796994, 6.7209654, 6.8286824],\n",
       "        [6.4703846, 6.8578625, 7.0043745, 7.036566 ],\n",
       "        ...,\n",
       "        [6.072696 , 6.6140213, 6.732213 , 6.967678 ],\n",
       "        [6.637367 , 6.648776 , 6.857826 , 7.0913444],\n",
       "        [6.2183456, 6.452479 , 6.581311 , 6.582588 ]], dtype=float32),\n",
       " array([[  381,   207,   210,   477],\n",
       "        [  526,   911,   142,    72],\n",
       "        [  838,   527,  1290,   425],\n",
       "        ...,\n",
       "        [11353, 10164,  9787, 10719],\n",
       "        [10571, 10664, 10632, 10203],\n",
       "        [ 9628,  9554,  9582, 10304]]))"
      ]
     },
     "execution_count": 8,
     "metadata": {},
     "output_type": "execute_result"
    }
   ],
   "source": [
    "iv_index.add(xb)\n",
    "s = time.time()\n",
    "iv_index.nprobe = 1\n",
    "D, I = iv_index.search(xq, k)\n",
    "print(f'cost {time.time() - s:.2f}s')\n",
    "D, I"
   ]
  },
  {
   "cell_type": "code",
   "execution_count": 9,
   "id": "87b9c8b1",
   "metadata": {},
   "outputs": [
    {
     "name": "stdout",
     "output_type": "stream",
     "text": [
      "cost 0.42s\n"
     ]
    },
    {
     "data": {
      "text/plain": [
       "(array([[6.8155117, 6.889466 , 7.395678 , 7.4290204],\n",
       "        [6.6041107, 6.6796994, 6.7209654, 6.8286824],\n",
       "        [6.4703846, 6.8578625, 7.0043745, 7.036566 ],\n",
       "        ...,\n",
       "        [6.072696 , 6.576689 , 6.6140213, 6.732213 ],\n",
       "        [6.637367 , 6.648776 , 6.857826 , 7.009651 ],\n",
       "        [6.2183456, 6.452479 , 6.548731 , 6.581311 ]], dtype=float32),\n",
       " array([[  381,   207,   210,   477],\n",
       "        [  526,   911,   142,    72],\n",
       "        [  838,   527,  1290,   425],\n",
       "        ...,\n",
       "        [11353, 11103, 10164,  9787],\n",
       "        [10571, 10664, 10632,  9638],\n",
       "        [ 9628,  9554, 10036,  9582]]))"
      ]
     },
     "execution_count": 9,
     "metadata": {},
     "output_type": "execute_result"
    }
   ],
   "source": [
    "s = time.time()\n",
    "iv_index.nprobe = 10\n",
    "D, I = iv_index.search(xq, k)\n",
    "print(f'cost {time.time() - s:.2f}s')\n",
    "D, I"
   ]
  },
  {
   "cell_type": "code",
   "execution_count": 10,
   "id": "c2679f69",
   "metadata": {},
   "outputs": [
    {
     "name": "stdout",
     "output_type": "stream",
     "text": [
      "cost 4.19s\n"
     ]
    },
    {
     "data": {
      "text/plain": [
       "(array([[6.8155117, 6.889466 , 7.395678 , 7.4290204],\n",
       "        [6.6041107, 6.6796994, 6.7209654, 6.8286824],\n",
       "        [6.4703846, 6.8578625, 7.0043745, 7.036566 ],\n",
       "        ...,\n",
       "        [6.072696 , 6.576689 , 6.6140213, 6.732213 ],\n",
       "        [6.637367 , 6.648776 , 6.857826 , 7.009651 ],\n",
       "        [6.2183456, 6.452479 , 6.548731 , 6.581311 ]], dtype=float32),\n",
       " array([[  381,   207,   210,   477],\n",
       "        [  526,   911,   142,    72],\n",
       "        [  838,   527,  1290,   425],\n",
       "        ...,\n",
       "        [11353, 11103, 10164,  9787],\n",
       "        [10571, 10664, 10632,  9638],\n",
       "        [ 9628,  9554, 10036,  9582]]))"
      ]
     },
     "execution_count": 10,
     "metadata": {},
     "output_type": "execute_result"
    }
   ],
   "source": [
    "s = time.time()\n",
    "iv_index.nprobe = 100\n",
    "D, I = iv_index.search(xq, k)\n",
    "print(f'cost {time.time() - s:.2f}s')\n",
    "D, I"
   ]
  },
  {
   "cell_type": "markdown",
   "id": "751696a0",
   "metadata": {},
   "source": [
    "可以观察到，当 `nprobe` 数量越高的时候，越接近于暴力搜索，因此设置 `nprobe` 可以在执行速度和精度之间进行权衡。"
   ]
  },
  {
   "cell_type": "markdown",
   "id": "188bbd3e",
   "metadata": {},
   "source": [
    "## 3. 节约内存搜索\n",
    "\n",
    "在一些情况下可能保存的数据较大，会导致内存占用过多，因此 faiss 提供了一种有损压缩来进行减小空间存储。\n",
    "\n",
    "这种计数基于 [Product Quantizer](https://hal.archives-ouvertes.fr/file/index/docid/514462/filename/paper_hal.pdf) 因此采取压缩的类多以 `xxxPQ` 结尾，在这种情况下各种数据可能会有精度损失。\n"
   ]
  },
  {
   "cell_type": "code",
   "execution_count": 12,
   "id": "b1715e80",
   "metadata": {},
   "outputs": [
    {
     "name": "stdout",
     "output_type": "stream",
     "text": [
      "[[   0   78  424  159]\n",
      " [   1  555  706 1063]\n",
      " [   2  179  304  134]\n",
      " [   3   64  773    8]\n",
      " [   4  288  827  531]]\n",
      "[[1.5882268 6.331396  6.440189  6.473257 ]\n",
      " [1.274326  5.728371  6.056792  6.1539173]\n",
      " [1.7501019 6.1581926 6.310023  6.365546 ]\n",
      " [1.8521194 6.6665597 6.978093  6.9924507]\n",
      " [1.5939493 5.717939  6.3486733 6.374599 ]]\n",
      "[[ 8746  9966  9853  9968]\n",
      " [11373 10913 10240 10403]\n",
      " [11291 10719 10494 10424]\n",
      " [10122 10005 11276 11578]\n",
      " [ 9644  9905 10370  9229]]\n"
     ]
    }
   ],
   "source": [
    "m = 8  # 子采样器的数量\n",
    "index = faiss.IndexFlatL2(d)\n",
    "pq_index = faiss.IndexIVFPQ(index, d, nlist, m, 8) # 末尾的 8 表示使用 8 个子采样器将每个向量压缩成 8 bit\n",
    "pq_index.train(xb)\n",
    "pq_index.add(xb)\n",
    "D, I = pq_index.search(xb[:5], k) # sanity check\n",
    "print(I)\n",
    "print(D)\n",
    "pq_index.nprobe = 10              # make comparable with experiment above\n",
    "D, I = pq_index.search(xq, k)     # search\n",
    "print(I[-5:])"
   ]
  },
  {
   "cell_type": "markdown",
   "id": "136797eb",
   "metadata": {},
   "source": [
    "## 4. 工厂方法\n",
    "\n",
    "快速创建索引"
   ]
  },
  {
   "cell_type": "code",
   "execution_count": null,
   "id": "f3b44df3",
   "metadata": {},
   "outputs": [],
   "source": [
    "index = faiss.index_factory(d,\"PCA32,IVF100,PQ8\")"
   ]
  },
  {
   "cell_type": "markdown",
   "id": "b122c6c7",
   "metadata": {},
   "source": [
    "该字符串的含义为：使用PCA算法将向量降维到32维, 划分成100个nprobe (搜索空间), 通过PQ算法将每个向量压缩成8bit。"
   ]
  },
  {
   "cell_type": "code",
   "execution_count": null,
   "id": "10d702b8",
   "metadata": {},
   "outputs": [],
   "source": [
    "index = faiss.index_factory(d,\"IVF100,FLAT\")"
   ]
  },
  {
   "cell_type": "markdown",
   "id": "bfa17406",
   "metadata": {},
   "source": [
    "该字符串的含义为：划分成100个nprobe (搜索空间), 不压缩。"
   ]
  },
  {
   "cell_type": "markdown",
   "id": "1868daec",
   "metadata": {},
   "source": [
    "## 5. 使用 GPU\n",
    "\n",
    "使用单个 GPU，每个索引需要至少 `256MB` 的空间。"
   ]
  },
  {
   "cell_type": "code",
   "execution_count": 14,
   "id": "9a77a59c",
   "metadata": {},
   "outputs": [],
   "source": [
    "res = faiss.StandardGpuResources()  # use a single GPU"
   ]
  },
  {
   "cell_type": "code",
   "execution_count": 16,
   "id": "320f3ae8",
   "metadata": {},
   "outputs": [
    {
     "ename": "RuntimeError",
     "evalue": "Error in virtual void faiss::gpu::StandardGpuResourcesImpl::initializeForDevice(int) at /project/faiss/faiss/gpu/StandardGpuResources.cpp:283: Error: 'err == cudaSuccess' failed: failed to cudaHostAlloc 268435456 bytes for CPU <-> GPU async copy buffer (error 2 out of memory)",
     "output_type": "error",
     "traceback": [
      "\u001b[0;31m---------------------------------------------------------------------------\u001b[0m",
      "\u001b[0;31mRuntimeError\u001b[0m                              Traceback (most recent call last)",
      "\u001b[0;32m/tmp/ipykernel_50515/1998081913.py\u001b[0m in \u001b[0;36m<module>\u001b[0;34m\u001b[0m\n\u001b[1;32m      2\u001b[0m \u001b[0mindex_flat\u001b[0m \u001b[0;34m=\u001b[0m \u001b[0mfaiss\u001b[0m\u001b[0;34m.\u001b[0m\u001b[0mIndexFlatL2\u001b[0m\u001b[0;34m(\u001b[0m\u001b[0;36m1\u001b[0m\u001b[0;34m)\u001b[0m\u001b[0;34m\u001b[0m\u001b[0m\n\u001b[1;32m      3\u001b[0m \u001b[0;31m# make it into a gpu index\u001b[0m\u001b[0;34m\u001b[0m\u001b[0;34m\u001b[0m\u001b[0m\n\u001b[0;32m----> 4\u001b[0;31m \u001b[0mgpu_index_flat\u001b[0m \u001b[0;34m=\u001b[0m \u001b[0mfaiss\u001b[0m\u001b[0;34m.\u001b[0m\u001b[0mindex_cpu_to_gpu\u001b[0m\u001b[0;34m(\u001b[0m\u001b[0mres\u001b[0m\u001b[0;34m,\u001b[0m \u001b[0;36m0\u001b[0m\u001b[0;34m,\u001b[0m \u001b[0mindex_flat\u001b[0m\u001b[0;34m)\u001b[0m\u001b[0;34m\u001b[0m\u001b[0m\n\u001b[0m",
      "\u001b[0;32m~/.conda/envs/rs/lib/python3.7/site-packages/faiss/swigfaiss.py\u001b[0m in \u001b[0;36mindex_cpu_to_gpu\u001b[0;34m(provider, device, index, options)\u001b[0m\n\u001b[1;32m  10273\u001b[0m \u001b[0;32mdef\u001b[0m \u001b[0mindex_cpu_to_gpu\u001b[0m\u001b[0;34m(\u001b[0m\u001b[0mprovider\u001b[0m\u001b[0;34m,\u001b[0m \u001b[0mdevice\u001b[0m\u001b[0;34m,\u001b[0m \u001b[0mindex\u001b[0m\u001b[0;34m,\u001b[0m \u001b[0moptions\u001b[0m\u001b[0;34m=\u001b[0m\u001b[0;32mNone\u001b[0m\u001b[0;34m)\u001b[0m\u001b[0;34m:\u001b[0m\u001b[0;34m\u001b[0m\u001b[0m\n\u001b[1;32m  10274\u001b[0m     \u001b[0;34mr\"\"\" converts any CPU index that can be converted to GPU\"\"\"\u001b[0m\u001b[0;34m\u001b[0m\u001b[0m\n\u001b[0;32m> 10275\u001b[0;31m     \u001b[0;32mreturn\u001b[0m \u001b[0m_swigfaiss\u001b[0m\u001b[0;34m.\u001b[0m\u001b[0mindex_cpu_to_gpu\u001b[0m\u001b[0;34m(\u001b[0m\u001b[0mprovider\u001b[0m\u001b[0;34m,\u001b[0m \u001b[0mdevice\u001b[0m\u001b[0;34m,\u001b[0m \u001b[0mindex\u001b[0m\u001b[0;34m,\u001b[0m \u001b[0moptions\u001b[0m\u001b[0;34m)\u001b[0m\u001b[0;34m\u001b[0m\u001b[0m\n\u001b[0m\u001b[1;32m  10276\u001b[0m \u001b[0;34m\u001b[0m\u001b[0m\n\u001b[1;32m  10277\u001b[0m \u001b[0;32mdef\u001b[0m \u001b[0mindex_cpu_to_gpu_multiple\u001b[0m\u001b[0;34m(\u001b[0m\u001b[0mprovider\u001b[0m\u001b[0;34m,\u001b[0m \u001b[0mdevices\u001b[0m\u001b[0;34m,\u001b[0m \u001b[0mindex\u001b[0m\u001b[0;34m,\u001b[0m \u001b[0moptions\u001b[0m\u001b[0;34m=\u001b[0m\u001b[0;32mNone\u001b[0m\u001b[0;34m)\u001b[0m\u001b[0;34m:\u001b[0m\u001b[0;34m\u001b[0m\u001b[0m\n",
      "\u001b[0;31mRuntimeError\u001b[0m: Error in virtual void faiss::gpu::StandardGpuResourcesImpl::initializeForDevice(int) at /project/faiss/faiss/gpu/StandardGpuResources.cpp:283: Error: 'err == cudaSuccess' failed: failed to cudaHostAlloc 268435456 bytes for CPU <-> GPU async copy buffer (error 2 out of memory)"
     ]
    }
   ],
   "source": [
    "# build a flat (CPU) index\n",
    "index_flat = faiss.IndexFlatL2(1)\n",
    "# make it into a gpu index\n",
    "gpu_index_flat = faiss.index_cpu_to_gpu(res, 0, index_flat)"
   ]
  },
  {
   "cell_type": "markdown",
   "id": "084ba09e",
   "metadata": {},
   "source": [
    "通过函数 `index_cpu_to_all_gpus` 使用多个 GPU"
   ]
  },
  {
   "cell_type": "code",
   "execution_count": 17,
   "id": "4210724a",
   "metadata": {},
   "outputs": [
    {
     "name": "stdout",
     "output_type": "stream",
     "text": [
      "number of GPUs: 2\n"
     ]
    },
    {
     "ename": "RuntimeError",
     "evalue": "Error in virtual void faiss::gpu::StandardGpuResourcesImpl::initializeForDevice(int) at /project/faiss/faiss/gpu/StandardGpuResources.cpp:283: Error: 'err == cudaSuccess' failed: failed to cudaHostAlloc 268435456 bytes for CPU <-> GPU async copy buffer (error 2 out of memory)",
     "output_type": "error",
     "traceback": [
      "\u001b[0;31m---------------------------------------------------------------------------\u001b[0m",
      "\u001b[0;31mRuntimeError\u001b[0m                              Traceback (most recent call last)",
      "\u001b[0;32m/tmp/ipykernel_50515/3135961172.py\u001b[0m in \u001b[0;36m<module>\u001b[0;34m\u001b[0m\n\u001b[1;32m      6\u001b[0m \u001b[0;34m\u001b[0m\u001b[0m\n\u001b[1;32m      7\u001b[0m gpu_index = faiss.index_cpu_to_all_gpus(  # build the index\n\u001b[0;32m----> 8\u001b[0;31m     \u001b[0mcpu_index\u001b[0m\u001b[0;34m\u001b[0m\u001b[0m\n\u001b[0m\u001b[1;32m      9\u001b[0m )\n\u001b[1;32m     10\u001b[0m \u001b[0;34m\u001b[0m\u001b[0m\n",
      "\u001b[0;32m~/.conda/envs/rs/lib/python3.7/site-packages/faiss/__init__.py\u001b[0m in \u001b[0;36mindex_cpu_to_all_gpus\u001b[0;34m(index, co, ngpu)\u001b[0m\n\u001b[1;32m    885\u001b[0m \u001b[0;34m\u001b[0m\u001b[0m\n\u001b[1;32m    886\u001b[0m \u001b[0;32mdef\u001b[0m \u001b[0mindex_cpu_to_all_gpus\u001b[0m\u001b[0;34m(\u001b[0m\u001b[0mindex\u001b[0m\u001b[0;34m,\u001b[0m \u001b[0mco\u001b[0m\u001b[0;34m=\u001b[0m\u001b[0;32mNone\u001b[0m\u001b[0;34m,\u001b[0m \u001b[0mngpu\u001b[0m\u001b[0;34m=\u001b[0m\u001b[0;34m-\u001b[0m\u001b[0;36m1\u001b[0m\u001b[0;34m)\u001b[0m\u001b[0;34m:\u001b[0m\u001b[0;34m\u001b[0m\u001b[0m\n\u001b[0;32m--> 887\u001b[0;31m     \u001b[0mindex_gpu\u001b[0m \u001b[0;34m=\u001b[0m \u001b[0mindex_cpu_to_gpus_list\u001b[0m\u001b[0;34m(\u001b[0m\u001b[0mindex\u001b[0m\u001b[0;34m,\u001b[0m \u001b[0mco\u001b[0m\u001b[0;34m=\u001b[0m\u001b[0mco\u001b[0m\u001b[0;34m,\u001b[0m \u001b[0mgpus\u001b[0m\u001b[0;34m=\u001b[0m\u001b[0;32mNone\u001b[0m\u001b[0;34m,\u001b[0m \u001b[0mngpu\u001b[0m\u001b[0;34m=\u001b[0m\u001b[0mngpu\u001b[0m\u001b[0;34m)\u001b[0m\u001b[0;34m\u001b[0m\u001b[0m\n\u001b[0m\u001b[1;32m    888\u001b[0m     \u001b[0;32mreturn\u001b[0m \u001b[0mindex_gpu\u001b[0m\u001b[0;34m\u001b[0m\u001b[0m\n\u001b[1;32m    889\u001b[0m \u001b[0;34m\u001b[0m\u001b[0m\n",
      "\u001b[0;32m~/.conda/envs/rs/lib/python3.7/site-packages/faiss/__init__.py\u001b[0m in \u001b[0;36mindex_cpu_to_gpus_list\u001b[0;34m(index, co, gpus, ngpu)\u001b[0m\n\u001b[1;32m    897\u001b[0m         \u001b[0mgpus\u001b[0m \u001b[0;34m=\u001b[0m \u001b[0mrange\u001b[0m\u001b[0;34m(\u001b[0m\u001b[0mngpu\u001b[0m\u001b[0;34m)\u001b[0m\u001b[0;34m\u001b[0m\u001b[0m\n\u001b[1;32m    898\u001b[0m     \u001b[0mres\u001b[0m \u001b[0;34m=\u001b[0m \u001b[0;34m[\u001b[0m\u001b[0mStandardGpuResources\u001b[0m\u001b[0;34m(\u001b[0m\u001b[0;34m)\u001b[0m \u001b[0;32mfor\u001b[0m \u001b[0m_\u001b[0m \u001b[0;32min\u001b[0m \u001b[0mgpus\u001b[0m\u001b[0;34m]\u001b[0m\u001b[0;34m\u001b[0m\u001b[0m\n\u001b[0;32m--> 899\u001b[0;31m     \u001b[0mindex_gpu\u001b[0m \u001b[0;34m=\u001b[0m \u001b[0mindex_cpu_to_gpu_multiple_py\u001b[0m\u001b[0;34m(\u001b[0m\u001b[0mres\u001b[0m\u001b[0;34m,\u001b[0m \u001b[0mindex\u001b[0m\u001b[0;34m,\u001b[0m \u001b[0mco\u001b[0m\u001b[0;34m,\u001b[0m \u001b[0mgpus\u001b[0m\u001b[0;34m)\u001b[0m\u001b[0;34m\u001b[0m\u001b[0m\n\u001b[0m\u001b[1;32m    900\u001b[0m     \u001b[0;32mreturn\u001b[0m \u001b[0mindex_gpu\u001b[0m\u001b[0;34m\u001b[0m\u001b[0m\n\u001b[1;32m    901\u001b[0m \u001b[0;34m\u001b[0m\u001b[0m\n",
      "\u001b[0;32m~/.conda/envs/rs/lib/python3.7/site-packages/faiss/__init__.py\u001b[0m in \u001b[0;36mindex_cpu_to_gpu_multiple_py\u001b[0;34m(resources, index, co, gpus)\u001b[0m\n\u001b[1;32m    880\u001b[0m         \u001b[0mvdev\u001b[0m\u001b[0;34m.\u001b[0m\u001b[0mpush_back\u001b[0m\u001b[0;34m(\u001b[0m\u001b[0mi\u001b[0m\u001b[0;34m)\u001b[0m\u001b[0;34m\u001b[0m\u001b[0m\n\u001b[1;32m    881\u001b[0m         \u001b[0mvres\u001b[0m\u001b[0;34m.\u001b[0m\u001b[0mpush_back\u001b[0m\u001b[0;34m(\u001b[0m\u001b[0mres\u001b[0m\u001b[0;34m)\u001b[0m\u001b[0;34m\u001b[0m\u001b[0m\n\u001b[0;32m--> 882\u001b[0;31m     \u001b[0mindex\u001b[0m \u001b[0;34m=\u001b[0m \u001b[0mindex_cpu_to_gpu_multiple\u001b[0m\u001b[0;34m(\u001b[0m\u001b[0mvres\u001b[0m\u001b[0;34m,\u001b[0m \u001b[0mvdev\u001b[0m\u001b[0;34m,\u001b[0m \u001b[0mindex\u001b[0m\u001b[0;34m,\u001b[0m \u001b[0mco\u001b[0m\u001b[0;34m)\u001b[0m\u001b[0;34m\u001b[0m\u001b[0m\n\u001b[0m\u001b[1;32m    883\u001b[0m     \u001b[0;32mreturn\u001b[0m \u001b[0mindex\u001b[0m\u001b[0;34m\u001b[0m\u001b[0m\n\u001b[1;32m    884\u001b[0m \u001b[0;34m\u001b[0m\u001b[0m\n",
      "\u001b[0;32m~/.conda/envs/rs/lib/python3.7/site-packages/faiss/swigfaiss.py\u001b[0m in \u001b[0;36mindex_cpu_to_gpu_multiple\u001b[0;34m(provider, devices, index, options)\u001b[0m\n\u001b[1;32m  10276\u001b[0m \u001b[0;34m\u001b[0m\u001b[0m\n\u001b[1;32m  10277\u001b[0m \u001b[0;32mdef\u001b[0m \u001b[0mindex_cpu_to_gpu_multiple\u001b[0m\u001b[0;34m(\u001b[0m\u001b[0mprovider\u001b[0m\u001b[0;34m,\u001b[0m \u001b[0mdevices\u001b[0m\u001b[0;34m,\u001b[0m \u001b[0mindex\u001b[0m\u001b[0;34m,\u001b[0m \u001b[0moptions\u001b[0m\u001b[0;34m=\u001b[0m\u001b[0;32mNone\u001b[0m\u001b[0;34m)\u001b[0m\u001b[0;34m:\u001b[0m\u001b[0;34m\u001b[0m\u001b[0m\n\u001b[0;32m> 10278\u001b[0;31m     \u001b[0;32mreturn\u001b[0m \u001b[0m_swigfaiss\u001b[0m\u001b[0;34m.\u001b[0m\u001b[0mindex_cpu_to_gpu_multiple\u001b[0m\u001b[0;34m(\u001b[0m\u001b[0mprovider\u001b[0m\u001b[0;34m,\u001b[0m \u001b[0mdevices\u001b[0m\u001b[0;34m,\u001b[0m \u001b[0mindex\u001b[0m\u001b[0;34m,\u001b[0m \u001b[0moptions\u001b[0m\u001b[0;34m)\u001b[0m\u001b[0;34m\u001b[0m\u001b[0m\n\u001b[0m\u001b[1;32m  10279\u001b[0m \u001b[0;32mclass\u001b[0m \u001b[0mGpuProgressiveDimIndexFactory\u001b[0m\u001b[0;34m(\u001b[0m\u001b[0mProgressiveDimIndexFactory\u001b[0m\u001b[0;34m)\u001b[0m\u001b[0;34m:\u001b[0m\u001b[0;34m\u001b[0m\u001b[0m\n\u001b[1;32m  10280\u001b[0m     \u001b[0;34mr\"\"\" index factory for the ProgressiveDimClustering object\"\"\"\u001b[0m\u001b[0;34m\u001b[0m\u001b[0m\n",
      "\u001b[0;31mRuntimeError\u001b[0m: Error in virtual void faiss::gpu::StandardGpuResourcesImpl::initializeForDevice(int) at /project/faiss/faiss/gpu/StandardGpuResources.cpp:283: Error: 'err == cudaSuccess' failed: failed to cudaHostAlloc 268435456 bytes for CPU <-> GPU async copy buffer (error 2 out of memory)"
     ]
    }
   ],
   "source": [
    "ngpus = faiss.get_num_gpus()\n",
    "\n",
    "print(\"number of GPUs:\", ngpus)\n",
    "\n",
    "cpu_index = faiss.IndexFlatL2(d)\n",
    "\n",
    "gpu_index = faiss.index_cpu_to_all_gpus(  # build the index\n",
    "    cpu_index\n",
    ")\n",
    "\n",
    "gpu_index.add(xb)              # add vectors to the index\n",
    "print(gpu_index.ntotal)\n",
    "\n",
    "k = 4                          # we want to see 4 nearest neighbors\n",
    "D, I = gpu_index.search(xq, k) # actual search\n",
    "print(I[:5])                   # neighbors of the 5 first queries\n",
    "print(I[-5:])      "
   ]
  },
  {
   "cell_type": "markdown",
   "id": "01d14c09",
   "metadata": {},
   "source": [
    "## 6. 构建余弦相似度\n",
    "\n",
    "faiss 中不支持之间构建余弦相似度，在[此](https://github.com/facebookresearch/faiss/wiki/MetricType-and-distances)提到构建余弦相似度的步骤：\n",
    "\n",
    "1. 创建索引 `IndexFlatIP`\n",
    "2. 在添加到索引之前使用进行 L2 归一化（`faiss.normalize_L2` in python）\n",
    "3. 搜索"
   ]
  },
  {
   "cell_type": "markdown",
   "id": "ba58e418",
   "metadata": {},
   "source": [
    "## 7. 保存和读取索引"
   ]
  },
  {
   "cell_type": "code",
   "execution_count": 19,
   "id": "ba9297cd",
   "metadata": {},
   "outputs": [],
   "source": [
    "faiss.write_index(index, 'a.index')\n",
    "index = faiss.read_index('a.index')"
   ]
  }
 ],
 "metadata": {
  "kernelspec": {
   "display_name": "Python 3 (ipykernel)",
   "language": "python",
   "name": "python3"
  },
  "language_info": {
   "codemirror_mode": {
    "name": "ipython",
    "version": 3
   },
   "file_extension": ".py",
   "mimetype": "text/x-python",
   "name": "python",
   "nbconvert_exporter": "python",
   "pygments_lexer": "ipython3",
   "version": "3.7.0"
  }
 },
 "nbformat": 4,
 "nbformat_minor": 5
}
